{
 "cells": [
  {
   "cell_type": "markdown",
   "metadata": {},
   "source": [
    "# 선순위 큐(priority queue)"
   ]
  },
  {
   "cell_type": "markdown",
   "metadata": {},
   "source": [
    "- 일반 큐:선입선출 FIFO(First In First Out) \n",
    "- 선순위 큐: 들어간 순서와 상관없이, 가장 높은 우선순위를 가진 데이터가 먼저 나옴 (우선순위 기준으로 나올 데이터 결정됨)\n",
    "\n",
    "\n",
    "- 사용 예시 : 가장 작은 값 혹은 가장 큰 값을 빠르게 찾고 싶을 때"
   ]
  },
  {
   "cell_type": "code",
   "execution_count": null,
   "metadata": {},
   "outputs": [],
   "source": [
    "import heapq #가장 작은 값이 최우선으로 나옴\n",
    "\n",
    "pq = []  # 빈 우선순위 큐(heap) 생성\n",
    "\n",
    "# 데이터 추가\n",
    "heapq.heappush(pq, 5)\n",
    "heapq.heappush(pq, 3)\n",
    "heapq.heappush(pq, 4)\n",
    "\n",
    "print(heapq.heappop(pq))  # 3 (가장 작은 값)\n",
    "print(heapq.heappop(pq))  # 4\n",
    "print(heapq.heappop(pq))  # 5\n"
   ]
  }
 ],
 "metadata": {
  "kernelspec": {
   "display_name": "Python 3",
   "language": "python",
   "name": "python3"
  },
  "language_info": {
   "name": "python",
   "version": "3.10.16"
  }
 },
 "nbformat": 4,
 "nbformat_minor": 2
}
