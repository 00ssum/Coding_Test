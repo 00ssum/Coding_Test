{
 "cells": [
  {
   "cell_type": "markdown",
   "metadata": {},
   "source": [
    "시간 복잡도 측정 (대부분은 5초 이내에 해결해야함)"
   ]
  },
  {
   "cell_type": "code",
   "execution_count": null,
   "metadata": {},
   "outputs": [],
   "source": [
    "import time\n",
    "start_time= time.time()\n",
    "\n",
    "print(\"Hello world\")\n",
    "\n",
    "end_time=time.time()\n",
    "print(\"time\", end_time-start_time)"
   ]
  },
  {
   "cell_type": "markdown",
   "metadata": {},
   "source": [
    "# 입력, 출력"
   ]
  },
  {
   "cell_type": "markdown",
   "metadata": {},
   "source": [
    "### 입력"
   ]
  },
  {
   "cell_type": "code",
   "execution_count": null,
   "metadata": {},
   "outputs": [],
   "source": [
    "import sys\n",
    "#(필수)\n",
    "input = sys.stdin.readline  # 개행 포함, strip 필요\n",
    "\n",
    "# 문자열 입력\n",
    "s = input().rstrip() # 줄바꿈 제거\n",
    "\n",
    "# 하나 입력 / 예: \"10\"\n",
    "N = int(input())\n",
    "# N줄에 하나 입력\n",
    "arr = [int(input()) for _ in range(N)] \n",
    "\n",
    "# N개 입력 / 예: \"10 20\"\n",
    "a, b = map(int, input().split())\n",
    "\n",
    "\n",
    "#한 줄에 리스트 입력 /예: \"1 2 3 4 5\"\n",
    "arr = list(map(int, input().split()))\n",
    "# N 줄에 리스트가 입력 == 행렬\n",
    "matrix =  [list(map(int, input().split())) for _ in range(N)]\n",
    "\n",
    "\n",
    "# EOF까지 입력 (테스트케이스 개수 미제공)\n",
    "for line in sys.stdin:\n",
    "    a, b = map(int, line.split())\n",
    "    print(f\"{a+b}\")"
   ]
  },
  {
   "cell_type": "markdown",
   "metadata": {},
   "source": [
    "### 출력"
   ]
  },
  {
   "cell_type": "code",
   "execution_count": null,
   "metadata": {},
   "outputs": [],
   "source": [
    "#f-string 출력 (다른 자료형 한번에 사용가능) 가장 유리함\n",
    "\n",
    "'''\n",
    "[값] : [표기법]\n",
    "----------------------------값 정리----------------------------\n",
    "[변수 or 연산 or 함수 or 조건부 표현식 가능] : []\n",
    "\n",
    "표기법을 별도로 지정하지 않았을땐, :[] 생략가능\n",
    "'''\n",
    "#연산/함수 직접사용\n",
    "a, b = 5, 3\n",
    "print(f\"{a} + {b} = {a+b}\")           \n",
    "print(f\"제곱근: {a**0.5:.3f}\")         \n",
    "print(f\"최댓값: {max(a, b)}\")       \n",
    "\n",
    "#리스트/딕셔너리 활용\n",
    "arr = [3.1415, 2.718, 1.618]\n",
    "data = {\"x\": 10, \"y\": 20}\n",
    "print(f\"리스트 첫 원소 = {arr[0]:.2f}\")  \n",
    "print(f\"x={data['x']}, y={data['y']}\")  \n",
    "\n",
    "#조건부 표현식\n",
    "score = 75\n",
    "print(f\"합격 여부: {'Pass' if score >= 60 else 'Fail'}\")\n",
    "\n",
    "\n",
    "'''\n",
    "----------------------------표기법 정리----------------------------\n",
    "[]:[채움문자][정렬기호][칸수][.소수점][숫자 관련 기호]\n",
    "\n",
    "#변수\n",
    "→ 출력할 값 (정수, 실수, 문자열 등)\n",
    "\n",
    "#채움문자 (optional)\n",
    "→ 남는 공간을 채울 문자 (0, _, *, ., …)\n",
    "\n",
    "#정렬기호 (optional)\n",
    "< : 왼쪽 정렬\n",
    "> : 오른쪽 정렬 (기본값)\n",
    "^ : 가운데 정렬\n",
    "\n",
    "#너비\n",
    "→ 전체 출력 칸 수 (예: 5 → 최소 5칸 확보)\n",
    "\n",
    "#.소수점 (optional, 실수일 때만)\n",
    ".Nf : 소수점 N자리\n",
    ".Ne : 지수 표기 (N자리)\n",
    ".N% : 퍼센트 (자동 ×100 후 % 붙임)\n",
    "\n",
    "#숫자 관련 기호 (optional)\n",
    "d : 10진수\n",
    "b : 2진수\n",
    "o : 8진수\n",
    "x / X : 16진수(소/대문자)\n",
    ", : 천 단위 구분(콤마)\n",
    "_ : 천 단위 구분(언더바)\n",
    "\n",
    "'''\n",
    "#섞여있는 자료형\n",
    "name = \"kim\"\n",
    "age = 30\n",
    "print(f'my name is {name}, {age} years old')\n",
    "\n",
    "\n",
    "#문자열 출력\n",
    "word = \"Python\"\n",
    "print(f\"{word:>10}\")  # '    Python' (오른쪽 정렬)\n",
    "print(f'{word:*>10}') # '****Python' (*로 채우고 오른쪽 정렬)\n",
    "print(f\"{word:<10}\")  # 'Python    ' (왼쪽 정렬)\n",
    "print(f\"{word:^10}\")  # '  Python  ' (가운데 정렬)\n",
    "\n",
    "# 정수 출력\n",
    "n = 42\n",
    "print(f\"{n:05d}\")   # 00042 (5자리, 빈칸은 0으로 채움)\n",
    "print(f\"{n:>5d}\")    # '   42' (5자리 확보, 공백 채움)\n",
    "print(f\"{n:<5d}\")   # '42   ' (왼쪽 정렬)\n",
    "\n",
    "# 실수 출력\n",
    "pi = 3.14159265\n",
    "print(f\"{pi:.4f}\")   # 3.1416 (넷째자리까지 반올림)\n",
    "print(f\"{pi:10.2f}\") # '      3.14' (10칸 확보 후 오른쪽 정렬)\n",
    "\n",
    "#진법 변환\n",
    "n = 255\n",
    "print(f\"2진수: {n:b}\")   # 2진수: 11111111\n",
    "print(f\"8진수: {n:o}\")   # 8진수: 377\n",
    "print(f\"16진수: {n:x}\")  # 16진수: ff\n",
    "print(f\"16진수(대문자): {n:X}\")  # 16진수: FF\n",
    "\n",
    "#천단위 마다 표기\n",
    "big = 1234567890\n",
    "print(f\"{big:,}\")  # 1,234,567,890 (천 단위 콤마)\n",
    "print(f\"{big:_}\")  # 1_234_567_890 (언더바 구분)"
   ]
  },
  {
   "cell_type": "markdown",
   "metadata": {},
   "source": [
    "# 연산자"
   ]
  },
  {
   "cell_type": "markdown",
   "metadata": {},
   "source": [
    "- 산술: + - * /(나눗셈) //(몫) %(나머지; 짝홀수 문제에 활용) **N(N제곱)\n",
    "- 비교: == != < > <= >=\n",
    "- 논리: and or not\n",
    "- 할당: = += -= *= /=\n",
    "- 멤버십: in, not in, is(==와 동일)\n",
    "- 삼항:  x(True) if 조건 else y(Fasle)"
   ]
  },
  {
   "cell_type": "code",
   "execution_count": 37,
   "metadata": {},
   "outputs": [
    {
     "name": "stdout",
     "output_type": "stream",
     "text": [
      "0.8999999999999999\n",
      "0.9\n",
      "1.7320508075688772\n"
     ]
    }
   ],
   "source": [
    "print(0.3+0.6) #0.9는 2진수에서 저장하기 힘듬\n",
    "print(round(0.3 + 0.6, 1))\n",
    "\n",
    "\n",
    "print(3**0.5) # 제곱근"
   ]
  },
  {
   "cell_type": "markdown",
   "metadata": {},
   "source": [
    "# 모든 자료형 공통 기본 함수"
   ]
  },
  {
   "cell_type": "code",
   "execution_count": 119,
   "metadata": {},
   "outputs": [
    {
     "name": "stdout",
     "output_type": "stream",
     "text": [
      "[1, 2, 3, 4, 5]\n",
      "5\n",
      "[3, 4]\n",
      "[5, 4, 3, 2, 1]\n"
     ]
    }
   ],
   "source": [
    "#인덱스\n",
    "a= [1,2,3,4,5]\n",
    "print( a[:]) #전체 출력\n",
    "print( a[-1])\n",
    "print( a[-3:-1])\n",
    "print(a[::-1])"
   ]
  },
  {
   "cell_type": "code",
   "execution_count": null,
   "metadata": {},
   "outputs": [],
   "source": [
    "# 카운트 \n",
    "print([\"a\",\"b\",\"b\",\"c\",\"d\"].count(\"b\"))   # b의 개수 → 2개\n",
    "\n",
    "# 탐색\n",
    "print([\"a\",\"b\",\"b\",\"c\",\"d\"].index(\"b\"))   # b의 \"첫번째\" 위치 → 1번 인덱스\n",
    "print ([i for i, val in enumerate([\"a\",\"b\",\"b\",\"c\",\"d\"]) if val == \"b\"]) # b의 \"모든\" 위치 → 1번 인덱스"
   ]
  },
  {
   "cell_type": "code",
   "execution_count": null,
   "metadata": {},
   "outputs": [],
   "source": [
    "'''\n",
    "key = 함수이름\n",
    "- 함수 반환값 기준으로 비교\n",
    "- abs(절대값), len(길이), 사용자정의함수(주로 lamdba)\n",
    "'''\n",
    "\n",
    "'''\n",
    "lambda 매개변수 : 적용 할 식\n",
    "- 한줄 함수 만들때\n",
    "- 정렬, map, filter, key 같은 곳에서 쓰임\n",
    "'''"
   ]
  },
  {
   "cell_type": "markdown",
   "metadata": {},
   "source": [
    "공통 내장 함수"
   ]
  },
  {
   "cell_type": "code",
   "execution_count": null,
   "metadata": {},
   "outputs": [
    {
     "name": "stdout",
     "output_type": "stream",
     "text": [
      "4\n",
      "3\n",
      "-5\n",
      "kiwi\n",
      "banana\n",
      "[[1, 2], [1, 5], [5, 1], [10, 9]]\n",
      "[4, 3, 1, -5]\n",
      "['kiwi', 'pear', 'apple', 'banana']\n"
     ]
    }
   ],
   "source": [
    "print(len([3, 4, 1, -5]))    # 길이 → 5\n",
    "print(sum([3, 4, 1, -5]))    # 합 → 14\n",
    "print(max([3, 4, 1, -5], key=abs))    # key함수 기준으로 적용 -5\n",
    "print(min([\"apple\", \"banana\", \"cherry\", \"kiwi\"], key=len))    # 길이 기준 kiwi\n",
    "print(min([\"apple\", \"banana\", \"cherry\", \"kiwi\"], key=lambda x: x[-1])) # 마지막 단어 기준 banana\n",
    "\n",
    "# 정렬\n",
    "print(sorted([3, 4, 1, -5]))\n",
    "print(sorted([3, 4, 1, -5], reverse=True))\n",
    "\n",
    "# 다중 정렬\n",
    "print(sorted([[1,5],[1,2],[5,1],[10,9]])) #첫번째부터 비교 -> 값 같을때 두번째 비교\n",
    "###key=lambda x: (조건1, 조건2, …) 를 쓰면 조건1 → 조건2 → 조건3 … 순서\n",
    "print(sorted([\"apple\",\"pear\",\"banana\",\"kiwi\"], key=lambda x: (len(x), x))) \n"
   ]
  },
  {
   "cell_type": "code",
   "execution_count": null,
   "metadata": {},
   "outputs": [
    {
     "name": "stdout",
     "output_type": "stream",
     "text": [
      "0 a\n",
      "1 b\n",
      "[(1, 'a', 4), (2, 'b', 5), (3, 'c', 6)]\n",
      "[[1, 'a', 4], [2, 'b', 5], [3, 'c', 6]]\n",
      "[2, 4, 6]\n",
      "[2, 4]\n",
      "True\n",
      "True\n"
     ]
    }
   ],
   "source": [
    "# enumerate : 인덱스와 값을 동시에 추출\n",
    "for i, v in enumerate([\"a\",\"b\"]):\n",
    "    print(i, v)   # 0 a / 1 b\n",
    "\n",
    "# zip( , , , ,) : 같은 위치 병렬 결합 => 튜플로 반환\n",
    "print(list(zip([1,2,3], [\"a\",\"b\",\"c\"], [4,5,6])))   # [(1, 'a', 4), (2, 'b', 5), (3, 'c', 6)]\n",
    "\n",
    "\n",
    "# map(함수이름, 입력): 각 원소별로 함수 적용\n",
    "print(list(map(list, zip([1,2,3], [\"a\",\"b\",\"c\"], [4,5,6])))) # 각 원소별 자료형 변환 함수 적용\n",
    "print(list(map(lambda x: x if x%2==0 else -1, [1,2,3,4,5])))\n",
    "\n",
    "# filter(조건, 입력): 조건을 만족하는 원소만 남김\n",
    "print(list(filter(lambda x: x%2==0, [1,2,3,4,5])))   # [2,4]\n",
    "\n",
    "\n",
    "# any(입력):하나라도 True면 / all(입력) : 모두 True면\n",
    "print(any(n%2==0 for n in [3,5,7,10]))  # True (짝수 10 있음)\n",
    "print(all(n%2==0 for n in [2,4,6,8]))  # True (모두 짝수)\n"
   ]
  },
  {
   "cell_type": "markdown",
   "metadata": {},
   "source": [
    "컴프리핸션\n",
    "- [출력 for 변수 in 반복가능객체 if 조건]"
   ]
  },
  {
   "cell_type": "code",
   "execution_count": null,
   "metadata": {},
   "outputs": [],
   "source": [
    "print( [i*i for i in range(5)])\n",
    "print([i for i in range(10) if i%2==0])\n"
   ]
  },
  {
   "cell_type": "markdown",
   "metadata": {},
   "source": [
    "# 자료형"
   ]
  },
  {
   "cell_type": "markdown",
   "metadata": {},
   "source": [
    "### 리스트"
   ]
  },
  {
   "cell_type": "markdown",
   "metadata": {},
   "source": [
    "주요 메소드"
   ]
  },
  {
   "cell_type": "code",
   "execution_count": null,
   "metadata": {},
   "outputs": [
    {
     "name": "stdout",
     "output_type": "stream",
     "text": [
      "2\n",
      "1\n",
      "[1, 2]\n",
      "[1, 2, 3]\n",
      "[3, 2, 1]\n",
      "[2, 3, 1]\n"
     ]
    }
   ],
   "source": [
    "# 원소 추가/삭제 ----------------------------\n",
    "arr.append(6)        # 맨 뒤 원소 \"하나\" 추가\n",
    "arr.insert(2, 99)    # 인덱스 2에 99삽입\n",
    "arr.extend([7, 8])   # 여러 원소 추가\n",
    "arr_1= arr + [7, 8]  # 여러 원소 추가\n",
    "\n",
    "arr.pop()            # 맨 뒤 삭제\n",
    "arr.pop(1)           # 인덱스 1 삭제\n",
    "arr.remove(99)       # 값 99 삭제(첫 번째만)\n",
    "arr.clear()          # 전체 삭제\n",
    "\n",
    "\n",
    "# 원소 값 변경 \n",
    "a[3]=10 #단일원소는 인덱스 사용/ 다중원소는 for, 컴프리헨션등 활용"
   ]
  },
  {
   "cell_type": "code",
   "execution_count": null,
   "metadata": {},
   "outputs": [
    {
     "name": "stdout",
     "output_type": "stream",
     "text": [
      "[]\n",
      "[0, 0, 0]\n",
      "[0, 1, 2, 3, 4]\n",
      "[0, 2, 4, 6, 8]\n",
      "[[0, 0, 0, 0], [0, 0, 0, 0], [0, 0, 0, 0]]\n"
     ]
    }
   ],
   "source": [
    "print([])\n",
    "print([0]*3)\n",
    "print([i for i in range(5)])          # [0,1,2,3,4]\n",
    "print([i for i in range(10) if i%2==0])  # 짝수만\n",
    "\n",
    "n, m = 3, 4 # n 행 row, m 열 column\n",
    "print( [[0] * m for _ in range(n)] )# n X m "
   ]
  },
  {
   "cell_type": "markdown",
   "metadata": {},
   "source": [
    "원소별 연산"
   ]
  },
  {
   "cell_type": "code",
   "execution_count": null,
   "metadata": {},
   "outputs": [
    {
     "name": "stdout",
     "output_type": "stream",
     "text": [
      "[5, 7, 9]\n",
      "[5, 7, 9]\n"
     ]
    }
   ],
   "source": [
    "print(list(map(lambda a, b: a + b, [1, 2, 3], [4, 5, 6])))"
   ]
  },
  {
   "cell_type": "markdown",
   "metadata": {},
   "source": [
    "전치"
   ]
  },
  {
   "cell_type": "code",
   "execution_count": null,
   "metadata": {},
   "outputs": [],
   "source": [
    "matrix = [[1,2,3],[4,5,6],[7,8,9]]\n",
    "print(list(zip(*matrix)))"
   ]
  },
  {
   "cell_type": "markdown",
   "metadata": {},
   "source": [
    "### 문자형"
   ]
  },
  {
   "cell_type": "code",
   "execution_count": 120,
   "metadata": {},
   "outputs": [
    {
     "name": "stdout",
     "output_type": "stream",
     "text": [
      "\"hi\"\n",
      "hellohellohello\n",
      "h\n"
     ]
    }
   ],
   "source": [
    "a=\"hello\"\n",
    "print(\"\\\"hi\\\"\") \n",
    "print(\"hello\"*3)\n",
    "print(a[0]) #a[2]=W 이렇게 할당은 지원안함 인덱싱만 지원함"
   ]
  },
  {
   "cell_type": "markdown",
   "metadata": {},
   "source": [
    "문자열 함수"
   ]
  },
  {
   "cell_type": "code",
   "execution_count": null,
   "metadata": {},
   "outputs": [],
   "source": [
    "# 특정 문자 치환 및 제거 (.replace())              \n",
    "print(\"010-1234-5678\".replace(\"-\", \"\"))    # \"01012345678\"\n",
    "print(\"010-1234-5678\".replace(\"010\", \"*\")) # \"*-1234-5678\"\n",
    "\n",
    "\n",
    "# 공백제거 (.strip() / .rstrip() / .lstrip())\n",
    "print(\"   hello world   \".strip())   # \"hello world\"   (양쪽 공백 제거)\n",
    "print(\"   hello world   \".rstrip())  # \"   hello world\" (오른쪽만 제거)\n",
    "print(\"   hello world   \".lstrip())  # \"hello world   \" (왼쪽만 제거)"
   ]
  },
  {
   "cell_type": "code",
   "execution_count": null,
   "metadata": {},
   "outputs": [],
   "source": [
    "#(str -> list) 공백 및 특정문자로 끊기 (.split())\n",
    "print(\"apple banana grape\".split(\" \"))      # ['apple', 'banana', 'grape']   \n",
    "print(\"apple,banana,grape\".split(\",\"))      # ['apple', 'banana', 'grape']\n",
    "\n",
    "#(list -> str) 공백 및 특정문자로 붙이기 (.join())\n",
    "print(\"\".join([\"A\", \"B\", \"C\"]))     # \"ABC\"\n",
    "print(\",\".join([\"A\", \"B\", \"C\"]))    # \"A,B,C\""
   ]
  },
  {
   "cell_type": "code",
   "execution_count": null,
   "metadata": {},
   "outputs": [
    {
     "name": "stdout",
     "output_type": "stream",
     "text": [
      "['apple', 'banana', 'grape']\n",
      "['apple', 'banana', 'grape']\n",
      "ABC\n",
      "A,B,C\n",
      "2\n",
      "4\n",
      "-1\n",
      "2\n",
      "01012345678\n",
      "*-1234-5678\n",
      "hello world\n",
      "   hello world\n",
      "hello world   \n"
     ]
    }
   ],
   "source": [
    "# 특정 부분 찾기\n",
    "print(\"banana\".find(\"na\"))   # 2 (첫 위치기준 인덱스)\n",
    "print(\"banana\".rfind(\"na\"))  # 4 (오른쪽기준 인덱스)\n",
    "print(\"banana\".find(\"Q\"))    # -1 (없으면 -1 출력)\n",
    "\n",
    "# 포함여부 찾기\n",
    "print(\"a\" in \"apple\")     # True\n",
    "print(\"z\" not in \"apple\") # True\n",
    "\n",
    "# 접두사/ 접미사\n",
    "print(\"algo.py\".startswith(\"algo\")) # True (접두사)\n",
    "print(\"algo.py\".endswith(\".py\")) # True (접미사)\n",
    "#---------------------------------------------\n",
    "# 모두 조건에 만족하나?\n",
    "print(\"123\".isdigit()) # True (숫자)\n",
    "print(\"abc\".isalpha()) # True (알파벳)\n",
    "print(\"abc123\".isalnum()) # True (알파벳 +숫자)\n",
    "\n",
    "#---------------------------------------------\n",
    "# 대문자 소문자\n",
    "print(\"BaNaNa\".upper())     # \"BANANA\" 전체 대문자\n",
    "print(\"BaNaNa\".lower())     # \"banana\" 전체 소문자\n",
    "print(\"BaNaNa\".swapcase())  # \"bAnAnA\" 치환\n",
    "\n",
    "# 문자 <-> 아스키 코드 변환\n",
    "print(ord(\"A\"))  # 65\n",
    "print(chr(65))   # 'A'\n"
   ]
  },
  {
   "cell_type": "markdown",
   "metadata": {},
   "source": []
  },
  {
   "cell_type": "markdown",
   "metadata": {},
   "source": []
  },
  {
   "cell_type": "markdown",
   "metadata": {},
   "source": []
  },
  {
   "cell_type": "markdown",
   "metadata": {},
   "source": []
  },
  {
   "cell_type": "markdown",
   "metadata": {},
   "source": []
  },
  {
   "cell_type": "markdown",
   "metadata": {},
   "source": []
  },
  {
   "cell_type": "markdown",
   "metadata": {},
   "source": [
    "### 튜플 자료형"
   ]
  },
  {
   "cell_type": "markdown",
   "metadata": {},
   "source": [
    "서로 다른 성질 데이터를 묶어서 관리할때 편함(비용, 노드번호)\n",
    "\n",
    "요소 변경 불가능해 키값으로 사용됨. \n",
    "\n",
    "리스트보다 메모리 효율적"
   ]
  },
  {
   "cell_type": "code",
   "execution_count": null,
   "metadata": {},
   "outputs": [],
   "source": [
    "a=(1,2,3,4)\n",
    "print(a[1])\n",
    "print(a[0:2])\n",
    "# a[0] =3 #불가능 한번 선언되면 바꿀 수 없음\n",
    "\n",
    "b=()\n",
    "print(min(a))\n",
    "\n",
    "print(max(a))"
   ]
  },
  {
   "cell_type": "code",
   "execution_count": null,
   "metadata": {},
   "outputs": [],
   "source": [
    "arr = [(1, 2), (3, 4), (5, 6)] #튜플이 원소인 list\n",
    "print(arr[0]) \n",
    "print(arr[0][0])\n",
    "print(arr[0][1])\n",
    "\n",
    "sum_arr = [sum(i) for i in arr]\n",
    "print(sum_arr)  # [3, 7, 11]\n"
   ]
  },
  {
   "cell_type": "markdown",
   "metadata": {},
   "source": [
    "### 딕셔너리 자료형"
   ]
  },
  {
   "cell_type": "markdown",
   "metadata": {},
   "source": [
    "키와 값을 쌍으로 가짐. 변경불가능한 자료형, O(1) 시간복잡도"
   ]
  },
  {
   "cell_type": "code",
   "execution_count": null,
   "metadata": {},
   "outputs": [],
   "source": [
    "d=dict()\n",
    "d['a'] =1 #a:key / 1: value\n",
    "d['b'] =2\n",
    "print(d)\n",
    "print(d['a'])\n",
    "print(d.keys())\n",
    "print(d.values())\n",
    "print(min(d))\n",
    "print(max(d))\n",
    "\n",
    "if 'a' in d:\n",
    "    print(\"a 있음\")"
   ]
  },
  {
   "cell_type": "markdown",
   "metadata": {},
   "source": [
    "### 집합 자료형"
   ]
  },
  {
   "cell_type": "markdown",
   "metadata": {},
   "source": [
    "중복x, 순서x, 리스트 또는 문자열로 초기화, O(1) 시간복잡도"
   ]
  },
  {
   "cell_type": "code",
   "execution_count": null,
   "metadata": {},
   "outputs": [],
   "source": [
    "a=[1,2,3,3,3]\n",
    "s=set(a) #리스트로 초기화\n",
    "print(s)\n",
    "\n",
    "s={1,1,1,2,3} #바로 초기화\n",
    "print(s)\n",
    "\n",
    "s.add(4) # == s.update([4]) == s.update({4})\n",
    "print(s)\n",
    "\n",
    "s.update([5,6])  # list 또는 {} 형태로 넣어야함\n",
    "print(s) \n",
    "\n",
    "s.remove(1)\n",
    "print(s)\n",
    "\n",
    "print(min(s))\n",
    "print(max(s))"
   ]
  },
  {
   "cell_type": "code",
   "execution_count": null,
   "metadata": {},
   "outputs": [],
   "source": [
    "a = {1, 2, 3, 4}\n",
    "b = {3, 4, 5, 6}\n",
    "\n",
    "#합집합\n",
    "print(a|b)\n",
    "print(set.union(a, b))\n",
    "\n",
    "#교집합\n",
    "print(a & b)\n",
    "print(set.intersection(a, b))\n",
    "\n",
    "# 차집합\n",
    "print(a-b)\n",
    "print(set.difference(a,b))\n",
    "\n",
    "# 대칭 차집합\n",
    "print(a ^ b)\n",
    "print(set.symmetric_difference(a, b))\n",
    "\n",
    "# 부분집합과 상위집합 확인\n",
    "print(a<b)\n",
    "\n",
    "c={1,2,3,4,5}\n",
    "print(a<c)\n"
   ]
  },
  {
   "cell_type": "markdown",
   "metadata": {},
   "source": [
    "# 조건문"
   ]
  },
  {
   "cell_type": "code",
   "execution_count": null,
   "metadata": {},
   "outputs": [],
   "source": [
    "for i in range(0,10):\n",
    "    print(i, end=\" \")\n",
    "\n",
    "a=3\n",
    "if a>10: print(\"10이상\") #한줄일때 간소화 가능\n",
    "elif a<10:\n",
    "    print(\"10미만\")\n",
    "else:\n",
    "    pass\n",
    "\n",
    "\n",
    "a = 10\n",
    "result= \"10이상\" if a >= 10 else \"10 이하\" \n",
    "print(result)"
   ]
  },
  {
   "cell_type": "markdown",
   "metadata": {},
   "source": [
    "# 반복문"
   ]
  },
  {
   "cell_type": "code",
   "execution_count": null,
   "metadata": {},
   "outputs": [],
   "source": [
    "# continue\n",
    "# break\n",
    "\n",
    "i =1 \n",
    "l=[]\n",
    "while i <=9:\n",
    "    l.append(i)\n",
    "    i+=1\n",
    "print(l)\n",
    "\n",
    "while True: #=> 무한 반복 반드시 break 와 함께 쓰기\n",
    "    break\n",
    "\n",
    "for i in range(1,11):\n",
    "    print(i, end=\" \")"
   ]
  },
  {
   "cell_type": "markdown",
   "metadata": {},
   "source": [
    "# 함수"
   ]
  },
  {
   "cell_type": "code",
   "execution_count": null,
   "metadata": {},
   "outputs": [],
   "source": [
    "c= 10\n",
    "\n",
    "def add(a,b):\n",
    "    global c #전역 변수\n",
    "    print(f\"a: {a}, b: {b}, c: {c}\")\n",
    "    return a+b\n",
    "\n",
    "print(add(1,2))\n",
    "print(add(b=3, a=1))\n"
   ]
  },
  {
   "cell_type": "markdown",
   "metadata": {},
   "source": [
    "# 자주 사용되는 함수"
   ]
  },
  {
   "cell_type": "markdown",
   "metadata": {},
   "source": [
    "### 내장 함수"
   ]
  },
  {
   "cell_type": "code",
   "execution_count": null,
   "metadata": {},
   "outputs": [
    {
     "name": "stdout",
     "output_type": "stream",
     "text": [
      "20\n",
      "[1, 2, 3, 4]\n",
      "[4, 3, 2, 1]\n",
      "[('c', 3), ('b', 2), ('a', 1)]\n"
     ]
    }
   ],
   "source": [
    "a= [1, 2, 3]\n",
    "print(eval(\"2*(3+7)\")) #문자열 형식 수식 -> 결과 반환\n",
    "\n",
    "\n",
    "a= [('a',1),('c',3),('b',2)]\n",
    "print(sorted(a, key=lambda x : x[1], reverse=True))"
   ]
  },
  {
   "cell_type": "markdown",
   "metadata": {},
   "source": [
    "### 순열 조합"
   ]
  },
  {
   "cell_type": "markdown",
   "metadata": {},
   "source": [
    "- 순열: 순서 고려 (a,b != b,a)\n",
    "- 조합: 순서 상관 없이 (a,b == b,a)"
   ]
  },
  {
   "cell_type": "code",
   "execution_count": null,
   "metadata": {},
   "outputs": [],
   "source": [
    "#순열 (a,b != b,a)\n",
    "from itertools import permutations\n",
    "a=['a', 'b' ,'c']\n",
    "r=list(permutations(a,2))\n",
    "print(r)\n",
    "\n",
    "#중복 순열 (a,a 가능) (a,b != b,a)\n",
    "from itertools import product\n",
    "a=['a','b','c']\n",
    "r=list(product(a, repeat=2))\n",
    "print(r)\n",
    "\n",
    "# 조합 (a,b == b,a)\n",
    "from itertools import combinations\n",
    "r=list(combinations(a,2))\n",
    "print(r)\n",
    "\n",
    "# 중복 조합(a,a 가능) (a,b == b,a)\n",
    "from itertools import combinations_with_replacement\n",
    "r=list(combinations_with_replacement(a,2))\n",
    "print(r)\n",
    "\n",
    "# arr = [(1, 2), (3, 4), (5, 6)] #튜플이 원소인 list\n",
    "# print(arr[0]) \n",
    "# print(arr[0][0])\n",
    "# print(arr[0][1])"
   ]
  },
  {
   "cell_type": "markdown",
   "metadata": {},
   "source": [
    "### Counter"
   ]
  },
  {
   "cell_type": "code",
   "execution_count": null,
   "metadata": {},
   "outputs": [],
   "source": [
    "from collections import Counter\n",
    "a= Counter([1,2,3,1,1,2,3,4,5])\n",
    "print(a[1])\n",
    "print(dict(a))"
   ]
  },
  {
   "cell_type": "markdown",
   "metadata": {},
   "source": [
    "### math"
   ]
  },
  {
   "cell_type": "code",
   "execution_count": null,
   "metadata": {},
   "outputs": [],
   "source": [
    "import math\n",
    "\n",
    "#최대공약수(GCD) \n",
    "print(math.gcd(2,10))\n",
    "\n",
    "#최소공배수(LCM)\n",
    "print(math.lcm(2, 10))"
   ]
  },
  {
   "cell_type": "markdown",
   "metadata": {},
   "source": [
    "heapq/ bisect"
   ]
  }
 ],
 "metadata": {
  "kernelspec": {
   "display_name": "base",
   "language": "python",
   "name": "python3"
  },
  "language_info": {
   "codemirror_mode": {
    "name": "ipython",
    "version": 3
   },
   "file_extension": ".py",
   "mimetype": "text/x-python",
   "name": "python",
   "nbconvert_exporter": "python",
   "pygments_lexer": "ipython3",
   "version": "3.12.7"
  }
 },
 "nbformat": 4,
 "nbformat_minor": 2
}
