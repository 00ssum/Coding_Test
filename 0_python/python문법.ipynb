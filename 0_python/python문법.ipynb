{
 "cells": [
  {
   "cell_type": "markdown",
   "metadata": {},
   "source": [
    "시간 복잡도 측정 (대부분은 5초 이내에 해결해야함)"
   ]
  },
  {
   "cell_type": "code",
   "execution_count": 1,
   "metadata": {},
   "outputs": [
    {
     "name": "stdout",
     "output_type": "stream",
     "text": [
      "Hello world\n",
      "time 0.0\n"
     ]
    }
   ],
   "source": [
    "import time\n",
    "start_time= time.time()\n",
    "\n",
    "print(\"Hello world\")\n",
    "\n",
    "end_time=time.time()\n",
    "print(\"time\", end_time-start_time)"
   ]
  },
  {
   "cell_type": "markdown",
   "metadata": {},
   "source": [
    "# 입력, 출력"
   ]
  },
  {
   "cell_type": "markdown",
   "metadata": {},
   "source": [
    "### 출력"
   ]
  },
  {
   "cell_type": "code",
   "execution_count": 2,
   "metadata": {},
   "outputs": [
    {
     "name": "stdout",
     "output_type": "stream",
     "text": [
      "1 2\n",
      "12*   \n",
      "\n",
      "3\n",
      "one two\n",
      "1 2\n",
      "4.000\n",
      "one two\n",
      "1 2\n",
      "1 two\n",
      "two 1\n",
      "my name is kim, 30 years old\n",
      "kim                 \n",
      "                 kim\n",
      "kim                 \n",
      "kim*****************\n",
      "*****************kim\n",
      "********kim*********\n",
      "4.000\n"
     ]
    }
   ],
   "source": [
    "print(1, 2)\n",
    "print(1, end=\"\") #자동 줄바꿈을 다르게 끝내도록 조작\n",
    "print(2, end=\"*   \")\n",
    "print(\"\\n\") #줄 바꿈\n",
    "print(str(3))\n",
    "\n",
    "# %출력\n",
    "print(\"%s %s\" % ('one','two')) #str\n",
    "print(\"%d %d\" % (1, 2)) #정수\n",
    "print('%.3f' % (4)) #실수\n",
    "\n",
    "# format출력\n",
    "print('{} {}'.format('one', 'two'))\n",
    "print('{} {}'.format(1, 2))\n",
    "print('{} {}'.format(1, \"two\"))\n",
    "print('{1} {0}'.format(1, \"two\"))\n",
    "\n",
    "#f-string 출력 (다른 자료형 한번에 사용가능)\n",
    "\n",
    "name = \"kim\"\n",
    "age = 30\n",
    "print(f'my name is {name}, {age} years old')\n",
    "print(f'{name:20}')\n",
    "print(f'{name:>20}')\n",
    "print(f'{name:<20}')\n",
    "print(f'{name:*<20}')\n",
    "print(f'{name:*>20}')\n",
    "print(f'{name:*^20}')\n",
    "\n",
    "\n",
    "\n",
    "#여백\n",
    "print('%5.3f' % (4))\n"
   ]
  },
  {
   "cell_type": "code",
   "execution_count": 3,
   "metadata": {},
   "outputs": [
    {
     "name": "stdout",
     "output_type": "stream",
     "text": [
      "my name is Kim        and 30.0000 years old\n",
      "my name is        Kim and 30.0000 years old\n"
     ]
    }
   ],
   "source": [
    "print('my name is {0:<10s} and {1:0.4f} years old'.format('Kim', 30))\n",
    "print('my name is {0:>10s} and {1:0.4f} years old'.format('Kim', 30))"
   ]
  },
  {
   "cell_type": "markdown",
   "metadata": {},
   "source": [
    "### 입력"
   ]
  },
  {
   "cell_type": "code",
   "execution_count": null,
   "metadata": {},
   "outputs": [
    {
     "name": "stdout",
     "output_type": "stream",
     "text": [
      "input_1: hi\n",
      "[1, 2, 3, 4, 5]\n",
      "1 2\n"
     ]
    }
   ],
   "source": [
    "input_1 = input() #  한줄의 문자열 입력 / string 타입으로 리턴 \n",
    "print(\"input_1:\", input_1)\n",
    "\n",
    "a = list(map(int, input().split())) #원소 하나씩 처리. .split()공백으로 구분지음 (몇개 들어올지 몰라 list)\n",
    "print(a)\n",
    "\n",
    "a, b = list(map(int, input().split())) # input으로 받는 요소 갯수가 몇개 안될때\n",
    "print(a, b)"
   ]
  },
  {
   "cell_type": "code",
   "execution_count": 5,
   "metadata": {},
   "outputs": [],
   "source": [
    "#시간 복잡도가 적은 입력 \n",
    "import sys\n",
    "\n",
    "# a=sys.stdin.readline().rstrip()\n",
    "# print(a)"
   ]
  },
  {
   "cell_type": "markdown",
   "metadata": {},
   "source": [
    "# 연산자"
   ]
  },
  {
   "cell_type": "code",
   "execution_count": 6,
   "metadata": {},
   "outputs": [
    {
     "name": "stdout",
     "output_type": "stream",
     "text": [
      "10<a<20\n",
      "10<a<20\n"
     ]
    }
   ],
   "source": [
    "a=10\n",
    "if  10 <=a and a <= 20: # and / or / not\n",
    "    print(\"10<a<20\")\n",
    "\n",
    "if 10<=a<=20:\n",
    "    print(\"10<a<20\")\n"
   ]
  },
  {
   "cell_type": "markdown",
   "metadata": {},
   "source": [
    "# 자료형"
   ]
  },
  {
   "cell_type": "markdown",
   "metadata": {},
   "source": [
    "### 실수, 정수 자료형"
   ]
  },
  {
   "cell_type": "code",
   "execution_count": null,
   "metadata": {},
   "outputs": [],
   "source": [
    "a=1e9\n",
    "a=-1e9\n",
    "a=1.0e9"
   ]
  },
  {
   "cell_type": "code",
   "execution_count": 8,
   "metadata": {},
   "outputs": [
    {
     "name": "stdout",
     "output_type": "stream",
     "text": [
      "0.8999999999999999\n",
      "0.9\n"
     ]
    }
   ],
   "source": [
    "a=0.3+0.6 #0.9는 2진수에서 저장하기 힘듬\n",
    "print(a)\n",
    "\n",
    "a=round(0.3+0.6,1)\n",
    "print(a)"
   ]
  },
  {
   "cell_type": "code",
   "execution_count": 9,
   "metadata": {},
   "outputs": [
    {
     "name": "stdout",
     "output_type": "stream",
     "text": [
      "3.0\n",
      "1\n",
      "4\n",
      "27\n",
      "1.7320508075688772\n"
     ]
    }
   ],
   "source": [
    "a=9/3 # /는 실수형으로 저장됨\n",
    "print(a) \n",
    "\n",
    "a=9%2 #홀수 짝수 알아내는 쉬운 방법 (나머지이용)\n",
    "print(a)\n",
    "\n",
    "b=9//2 #몫\n",
    "print(b)\n",
    "\n",
    "a=3**3\n",
    "print(a)\n",
    "\n",
    "b=3**0.5 #제곱근\n",
    "print(b)"
   ]
  },
  {
   "cell_type": "markdown",
   "metadata": {},
   "source": [
    "### 리스트 자료형"
   ]
  },
  {
   "cell_type": "code",
   "execution_count": null,
   "metadata": {},
   "outputs": [
    {
     "name": "stdout",
     "output_type": "stream",
     "text": [
      "[]\n",
      "[0, 1, 2, 3, 4, 5, 6, 7, 8, 9]\n",
      "l_2:  [0, 4, 16, 36, 64, 100, 144, 196, 256, 324]\n",
      "l_3x2 [[0, 0], [0, 0], [0, 0]]\n",
      "[0, 0, 0]\n",
      "a[0]: 1\n",
      "a[-1]: 5\n",
      "a[0:2]: [1, 2]\n",
      "a[:] [1, 2, 3, 4, 5]\n",
      "10\n"
     ]
    }
   ],
   "source": [
    "l=[]\n",
    "print(l)\n",
    "\n",
    "l=[i for i in range(10)]\n",
    "print(l)\n",
    "\n",
    "l_2=[i * i for i in range(20) if i % 2 == 0]\n",
    "print(\"l_2: \",l_2)\n",
    "\n",
    "# 동일함\n",
    "# l_2_1=[]\n",
    "# for i  in range(0,20):\n",
    "#     if i % 2 ==0:\n",
    "#         l_2_1.append(i*i)\n",
    "# print(\"l_2_1:\", l_2_1)\n",
    "\n",
    "n = 3 # 행 row\n",
    "m = 2 # 열 column\n",
    "l_3x2= [[0] * m for _ in range(n)] # n X m ## [[0]*m] *n => 잘못된 초기화 방법(모든 열이 동일하게 인식됨)\n",
    "print(\"l_3x2\", l_3x2)\n",
    "\n",
    "n=3\n",
    "b=[0]*n\n",
    "print(b)\n",
    "\n",
    "a= [1,2,3,4,5]\n",
    "print(\"a[0]:\", a[0])\n",
    "print(\"a[-1]:\", a[-1])\n",
    "print(\"a[0:2]:\", a[0:2])\n",
    "print(\"a[:]\", a[:]) #전체 출력\n",
    "\n",
    "a[0]=10\n",
    "print(a[0])"
   ]
  },
  {
   "cell_type": "code",
   "execution_count": null,
   "metadata": {},
   "outputs": [
    {
     "name": "stdout",
     "output_type": "stream",
     "text": [
      "[1, 3, 2, 3]\n",
      "[3, 2, 3, 1]\n",
      "[3, 3, 2, 1]\n",
      "[1, 2, 3, 3]\n",
      "[1, 2, 'hi', 3, 3]\n",
      "2\n",
      "[1, 2, 'hi', 3]\n",
      "[1, 2]\n"
     ]
    }
   ],
   "source": [
    "arr=[1,3,2]\n",
    "\n",
    "arr.append(3) #원소 하나만 추가할때.\n",
    "print(arr)\n",
    "\n",
    "arr.reverse() # 원소의 순서 반대로 \n",
    "print(arr)\n",
    "\n",
    "\n",
    "arr.sort(reverse=True) # 내림차순 정렬\n",
    "print(arr)\n",
    "\n",
    "arr.sort() # 오름차순 정렬\n",
    "print(arr)\n",
    "# 한줄로 줄이면 sorted print(sorted(arr))\n",
    "# key 속성에 따라 정렬 해 줄 수 있음\n",
    "\n",
    "\n",
    "arr.insert(2,\"hi\") #섭압(위치, 요소)\n",
    "print(arr)\n",
    "\n",
    "\n",
    "print(arr.count(3)) #원소 갯수 세기\n",
    "\n",
    "\n",
    "arr.remove(3) #원소 하나 지우기\n",
    "print(arr)\n",
    "\n",
    "\n",
    "\n",
    "rm_set={\"hi\", 3}\n",
    "arr=[i for i in arr if i not in rm_set]\n",
    "print(arr)\n",
    "\n",
    "# 동일한 코드 (있는 list에서 하는게 아니라 빈 list에다가 값을 추가해주는 형태)\n",
    "# new_arr = []  \n",
    "# for i in arr: \n",
    "#     if i not in rm_set: \n",
    "#         new_arr.append(i)\n",
    "# print(new_arr)"
   ]
  },
  {
   "cell_type": "code",
   "execution_count": 11,
   "metadata": {},
   "outputs": [
    {
     "name": "stdout",
     "output_type": "stream",
     "text": [
      "-2\n",
      "1\n",
      "apple\n",
      "kiwi\n",
      "banana\n"
     ]
    }
   ],
   "source": [
    "arr=[1,3,-2]\n",
    "print(min(arr))\n",
    "\n",
    "print(min(arr, key=abs)) #절대값 기준으로 \n",
    "\n",
    "words = [\"apple\", \"banana\", \"cherry\"]\n",
    "print(min(words))  # 출력: \"apple\" (알파벳 순서 기준)\n",
    "\n",
    "words = [\"apple\", \"banana\", \"cherry\", \"kiwi\"]\n",
    "print(min(words, key=len)) # 길이 기준으로\n",
    "\n",
    "\n",
    "#사용자 정의 기준(ex. 마지막 글자 기준)\n",
    "def last_character(word):\n",
    "    return word[-1]\n",
    "\n",
    "print(min(words, key=last_character))\n"
   ]
  },
  {
   "cell_type": "code",
   "execution_count": null,
   "metadata": {},
   "outputs": [
    {
     "name": "stdout",
     "output_type": "stream",
     "text": [
      "[1, 2, 3, 3, 4, 5]\n"
     ]
    }
   ],
   "source": [
    "a=[1,2,3]\n",
    "b=[3,4,5]\n",
    "print(a+b)\n",
    "#a.append(b) 아님 !! (이건 원소 하나 추가)"
   ]
  },
  {
   "cell_type": "markdown",
   "metadata": {},
   "source": [
    "원소별 연산"
   ]
  },
  {
   "cell_type": "code",
   "execution_count": 13,
   "metadata": {},
   "outputs": [
    {
     "name": "stdout",
     "output_type": "stream",
     "text": [
      "[5, 7, 9]\n",
      "[5, 7, 9]\n"
     ]
    }
   ],
   "source": [
    "#list\n",
    "l1 = [1, 2, 3]\n",
    "l2 = [4, 5, 6]\n",
    "\n",
    "result = list(map(lambda a, b: a + b, l1, l2))\n",
    "print(result)\n",
    "\n",
    "result_2 = [a + b for a, b in zip(l1, l2)]\n",
    "print(result_2)"
   ]
  },
  {
   "cell_type": "code",
   "execution_count": 35,
   "metadata": {},
   "outputs": [
    {
     "name": "stdout",
     "output_type": "stream",
     "text": [
      "(1, 2)\n",
      "1\n",
      "2\n",
      "[3, 7, 11]\n"
     ]
    }
   ],
   "source": [
    "arr = [(1, 2), (3, 4), (5, 6)] #튜플이 원소인 list\n",
    "print(arr[0]) \n",
    "print(arr[0][0])\n",
    "print(arr[0][1])\n",
    "\n",
    "sum_arr = [sum(i) for i in arr]\n",
    "print(sum_arr)  # [3, 7, 11]\n"
   ]
  },
  {
   "cell_type": "markdown",
   "metadata": {},
   "source": [
    "### 문자형 자료형"
   ]
  },
  {
   "cell_type": "code",
   "execution_count": 14,
   "metadata": {},
   "outputs": [
    {
     "name": "stdout",
     "output_type": "stream",
     "text": [
      "\"hi\"\n",
      "hello world\n",
      "hellohellohello\n",
      "h\n"
     ]
    }
   ],
   "source": [
    "print(\"\\\"hi\\\"\") \n",
    "a=\"hello\"\n",
    "b=\"world\"\n",
    "\n",
    "print(a+\" \"+b)\n",
    "print(a*3)\n",
    "print(a[0]) #a[2]=W 이렇게 할당은 지원안함 인덱싱만 지원함"
   ]
  },
  {
   "cell_type": "markdown",
   "metadata": {},
   "source": [
    "### 튜플 자료형"
   ]
  },
  {
   "cell_type": "markdown",
   "metadata": {},
   "source": [
    "서로 다른 성질 데이터를 묶어서 관리할때 편함(비용, 노드번호)\n",
    "\n",
    "요소 변경 불가능해 키값으로 사용됨. \n",
    "\n",
    "리스트보다 메모리 효율적"
   ]
  },
  {
   "cell_type": "code",
   "execution_count": 4,
   "metadata": {},
   "outputs": [
    {
     "name": "stdout",
     "output_type": "stream",
     "text": [
      "2\n",
      "(1, 2)\n",
      "1\n",
      "4\n"
     ]
    }
   ],
   "source": [
    "a=(1,2,3,4)\n",
    "print(a[1])\n",
    "print(a[0:2])\n",
    "# a[0] =3 #불가능 한번 선언되면 바꿀 수 없음\n",
    "\n",
    "b=()\n",
    "print(min(a))\n",
    "\n",
    "print(max(a))"
   ]
  },
  {
   "cell_type": "markdown",
   "metadata": {},
   "source": [
    "### 딕셔너리 자료형"
   ]
  },
  {
   "cell_type": "markdown",
   "metadata": {},
   "source": [
    "키와 값을 쌍으로 가짐. 변경불가능한 자료형, O(1) 시간복잡도"
   ]
  },
  {
   "cell_type": "code",
   "execution_count": 6,
   "metadata": {},
   "outputs": [
    {
     "name": "stdout",
     "output_type": "stream",
     "text": [
      "{'a': 1, 'b': 2}\n",
      "1\n",
      "dict_keys(['a', 'b'])\n",
      "dict_values([1, 2])\n",
      "a\n",
      "b\n",
      "a 있음\n"
     ]
    }
   ],
   "source": [
    "d=dict()\n",
    "d['a'] =1 #a:key / 1: value\n",
    "d['b'] =2\n",
    "print(d)\n",
    "print(d['a'])\n",
    "print(d.keys())\n",
    "print(d.values())\n",
    "print(min(d))\n",
    "print(max(d))\n",
    "\n",
    "if 'a' in d:\n",
    "    print(\"a 있음\")"
   ]
  },
  {
   "cell_type": "markdown",
   "metadata": {},
   "source": [
    "### 집합 자료형"
   ]
  },
  {
   "cell_type": "markdown",
   "metadata": {},
   "source": [
    "중복x, 순서x, 리스트 또는 문자열로 초기화, O(1) 시간복잡도"
   ]
  },
  {
   "cell_type": "code",
   "execution_count": 7,
   "metadata": {},
   "outputs": [
    {
     "name": "stdout",
     "output_type": "stream",
     "text": [
      "{1, 2, 3}\n",
      "{1, 2, 3}\n",
      "{1, 2, 3, 4}\n",
      "{1, 2, 3, 4, 5, 6}\n",
      "{2, 3, 4, 5, 6}\n",
      "2\n",
      "6\n"
     ]
    }
   ],
   "source": [
    "a=[1,2,3,3,3]\n",
    "s=set(a) #리스트로 초기화\n",
    "print(s)\n",
    "\n",
    "s={1,1,1,2,3} #바로 초기화\n",
    "print(s)\n",
    "\n",
    "s.add(4) # == s.update([4]) == s.update({4})\n",
    "print(s)\n",
    "\n",
    "s.update([5,6])  # list 또는 {} 형태로 넣어야함\n",
    "print(s) \n",
    "\n",
    "s.remove(1)\n",
    "print(s)\n",
    "\n",
    "print(min(s))\n",
    "print(max(s))"
   ]
  },
  {
   "cell_type": "code",
   "execution_count": 18,
   "metadata": {},
   "outputs": [
    {
     "name": "stdout",
     "output_type": "stream",
     "text": [
      "{1, 2, 3, 4, 5, 6}\n",
      "{1, 2, 3, 4, 5, 6}\n",
      "{3, 4}\n",
      "{3, 4}\n",
      "{1, 2}\n",
      "{1, 2}\n",
      "{1, 2, 5, 6}\n",
      "{1, 2, 5, 6}\n",
      "False\n",
      "True\n"
     ]
    }
   ],
   "source": [
    "a = {1, 2, 3, 4}\n",
    "b = {3, 4, 5, 6}\n",
    "\n",
    "#합집합\n",
    "print(a|b)\n",
    "print(set.union(a, b))\n",
    "\n",
    "#교집합\n",
    "print(a & b)\n",
    "print(set.intersection(a, b))\n",
    "\n",
    "# 차집합\n",
    "print(a-b)\n",
    "print(set.difference(a,b))\n",
    "\n",
    "# 대칭 차집합\n",
    "print(a ^ b)\n",
    "print(set.symmetric_difference(a, b))\n",
    "\n",
    "# 부분집합과 상위집합 확인\n",
    "print(a<b)\n",
    "\n",
    "c={1,2,3,4,5}\n",
    "print(a<c)\n"
   ]
  },
  {
   "cell_type": "markdown",
   "metadata": {},
   "source": [
    "# 조건문"
   ]
  },
  {
   "cell_type": "code",
   "execution_count": 19,
   "metadata": {},
   "outputs": [
    {
     "name": "stdout",
     "output_type": "stream",
     "text": [
      "0 1 2 3 4 5 6 7 8 9 10미만\n",
      "10이상\n"
     ]
    }
   ],
   "source": [
    "for i in range(0,10):\n",
    "    print(i, end=\" \")\n",
    "\n",
    "a=3\n",
    "if a>10: print(\"10이상\") #한줄일때 간소화 가능\n",
    "elif a<10:\n",
    "    print(\"10미만\")\n",
    "else:\n",
    "    pass\n",
    "\n",
    "\n",
    "a = 10\n",
    "result= \"10이상\" if a >= 10 else \"10 이하\" \n",
    "print(result)"
   ]
  },
  {
   "cell_type": "markdown",
   "metadata": {},
   "source": [
    "# 반복문"
   ]
  },
  {
   "cell_type": "code",
   "execution_count": null,
   "metadata": {},
   "outputs": [
    {
     "name": "stdout",
     "output_type": "stream",
     "text": [
      "[1, 2, 3, 4, 5, 6, 7, 8, 9]\n",
      "1 2 3 4 5 6 7 8 9 10 "
     ]
    }
   ],
   "source": [
    "# continue\n",
    "# break\n",
    "\n",
    "i =1 \n",
    "l=[]\n",
    "while i <=9:\n",
    "    l.append(i)\n",
    "    i+=1\n",
    "print(l)\n",
    "\n",
    "while True: #=> 무한 반복 반드시 break 와 함께 쓰기\n",
    "    break\n",
    "\n",
    "for i in range(1,11):\n",
    "    print(i, end=\" \")"
   ]
  },
  {
   "cell_type": "markdown",
   "metadata": {},
   "source": [
    "# 함수"
   ]
  },
  {
   "cell_type": "code",
   "execution_count": 21,
   "metadata": {},
   "outputs": [
    {
     "name": "stdout",
     "output_type": "stream",
     "text": [
      "a: 1, b: 2, c: 10\n",
      "3\n",
      "a: 1, b: 3, c: 10\n",
      "4\n"
     ]
    }
   ],
   "source": [
    "c= 10\n",
    "\n",
    "def add(a,b):\n",
    "    global c #전역 변수\n",
    "    print(f\"a: {a}, b: {b}, c: {c}\")\n",
    "    return a+b\n",
    "\n",
    "print(add(1,2))\n",
    "print(add(b=3, a=1))\n"
   ]
  },
  {
   "cell_type": "markdown",
   "metadata": {},
   "source": [
    "### 람다 표현식"
   ]
  },
  {
   "cell_type": "markdown",
   "metadata": {},
   "source": [
    "(lambda 매개변수 :함수동작) (인풋)  ==> 한번 사용하는 함수의 경우 유용함"
   ]
  },
  {
   "cell_type": "code",
   "execution_count": 22,
   "metadata": {},
   "outputs": [
    {
     "name": "stdout",
     "output_type": "stream",
     "text": [
      "[('a', 1), ('b', 2), ('c', 3)]\n",
      "[('a', 1), ('b', 2), ('c', 3)]\n"
     ]
    }
   ],
   "source": [
    "a= [('a',1),('b',2),('c',3)]\n",
    "\n",
    "def my_key(x):\n",
    "    return x[1]\n",
    "\n",
    "print(sorted(a, key=my_key))\n",
    "print(sorted(a, key=lambda x : x[1]))"
   ]
  },
  {
   "cell_type": "code",
   "execution_count": 23,
   "metadata": {},
   "outputs": [
    {
     "name": "stdout",
     "output_type": "stream",
     "text": [
      "[5, 7, 9]\n",
      "[5, 7, 9]\n"
     ]
    }
   ],
   "source": [
    "#list\n",
    "l1 = [1, 2, 3]\n",
    "l2 = [4, 5, 6]\n",
    "\n",
    "result = list(map(lambda a, b: a + b, l1, l2))\n",
    "print(result)\n",
    "\n",
    "result_2 = [a + b for a, b in zip(l1, l2)]\n",
    "print(result_2)\n"
   ]
  },
  {
   "cell_type": "markdown",
   "metadata": {},
   "source": [
    "# 자주 사용되는 함수"
   ]
  },
  {
   "cell_type": "markdown",
   "metadata": {},
   "source": [
    "### 내장 함수"
   ]
  },
  {
   "cell_type": "code",
   "execution_count": null,
   "metadata": {},
   "outputs": [
    {
     "name": "stdout",
     "output_type": "stream",
     "text": [
      "6\n",
      "3\n",
      "10\n",
      "1\n",
      "20\n",
      "[1, 2, 3, 4]\n",
      "[4, 3, 2, 1]\n",
      "[('c', 3), ('b', 2), ('a', 1)]\n"
     ]
    }
   ],
   "source": [
    "a= [1, 2, 3]\n",
    "print(sum(a))\n",
    "\n",
    "print(max(a))\n",
    "print(max(1, 10, 2, 3))\n",
    "print(min(a))\n",
    "print(eval(\"2*(3+7)\")) #문자열 형식 수식 -> 결과 반환\n",
    "\n",
    "\n",
    "print(sorted([1,3,2,4]))\n",
    "print(sorted([1,3,2,4], reverse=True))\n",
    "\n",
    "a= [('a',1),('c',3),('b',2)]\n",
    "print(sorted(a, key=lambda x : x[1], reverse=True))"
   ]
  },
  {
   "cell_type": "markdown",
   "metadata": {},
   "source": [
    "### 순열 조합"
   ]
  },
  {
   "cell_type": "markdown",
   "metadata": {},
   "source": [
    "- 순열: 순서 고려 (a,b != b,a)\n",
    "- 조합: 순서 상관 없이 (a,b == b,a)"
   ]
  },
  {
   "cell_type": "code",
   "execution_count": null,
   "metadata": {},
   "outputs": [
    {
     "name": "stdout",
     "output_type": "stream",
     "text": [
      "[('a', 'b'), ('a', 'c'), ('b', 'a'), ('b', 'c'), ('c', 'a'), ('c', 'b')]\n",
      "[('a', 'a'), ('a', 'b'), ('a', 'c'), ('b', 'a'), ('b', 'b'), ('b', 'c'), ('c', 'a'), ('c', 'b'), ('c', 'c')]\n",
      "[('a', 'b'), ('a', 'c'), ('b', 'c')]\n",
      "[('a', 'a'), ('a', 'b'), ('a', 'c'), ('b', 'b'), ('b', 'c'), ('c', 'c')]\n"
     ]
    }
   ],
   "source": [
    "#순열 (a,b != b,a)\n",
    "from itertools import permutations\n",
    "a=['a', 'b' ,'c']\n",
    "r=list(permutations(a,2))\n",
    "print(r)\n",
    "\n",
    "#중복 순열 (a,a 가능) (a,b != b,a)\n",
    "from itertools import product\n",
    "a=['a','b','c']\n",
    "r=list(product(a, repeat=2))\n",
    "print(r)\n",
    "\n",
    "# 조합 (a,b == b,a)\n",
    "from itertools import combinations\n",
    "r=list(combinations(a,2))\n",
    "print(r)\n",
    "\n",
    "# 중복 조합(a,a 가능) (a,b == b,a)\n",
    "from itertools import combinations_with_replacement\n",
    "r=list(combinations_with_replacement(a,2))\n",
    "print(r)\n",
    "\n",
    "# arr = [(1, 2), (3, 4), (5, 6)] #튜플이 원소인 list\n",
    "# print(arr[0]) \n",
    "# print(arr[0][0])\n",
    "# print(arr[0][1])"
   ]
  },
  {
   "cell_type": "markdown",
   "metadata": {},
   "source": [
    "### Counter"
   ]
  },
  {
   "cell_type": "code",
   "execution_count": 26,
   "metadata": {},
   "outputs": [
    {
     "name": "stdout",
     "output_type": "stream",
     "text": [
      "3\n",
      "{1: 3, 2: 2, 3: 2, 4: 1, 5: 1}\n"
     ]
    }
   ],
   "source": [
    "from collections import Counter\n",
    "a= Counter([1,2,3,1,1,2,3,4,5])\n",
    "print(a[1])\n",
    "print(dict(a))"
   ]
  },
  {
   "cell_type": "markdown",
   "metadata": {},
   "source": [
    "### math"
   ]
  },
  {
   "cell_type": "code",
   "execution_count": 27,
   "metadata": {},
   "outputs": [
    {
     "name": "stdout",
     "output_type": "stream",
     "text": [
      "2\n",
      "10\n"
     ]
    }
   ],
   "source": [
    "import math\n",
    "\n",
    "#최대공약수(GCD) \n",
    "print(math.gcd(2,10))\n",
    "\n",
    "#최소공배수(LCM)\n",
    "print(math.lcm(2, 10))"
   ]
  },
  {
   "cell_type": "markdown",
   "metadata": {},
   "source": [
    "heapq/ bisect"
   ]
  }
 ],
 "metadata": {
  "kernelspec": {
   "display_name": "Python 3",
   "language": "python",
   "name": "python3"
  },
  "language_info": {
   "codemirror_mode": {
    "name": "ipython",
    "version": 3
   },
   "file_extension": ".py",
   "mimetype": "text/x-python",
   "name": "python",
   "nbconvert_exporter": "python",
   "pygments_lexer": "ipython3",
   "version": "3.10.16"
  }
 },
 "nbformat": 4,
 "nbformat_minor": 2
}
