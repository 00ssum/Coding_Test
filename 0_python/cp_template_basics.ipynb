{
  "cells": [
    {
      "cell_type": "markdown",
      "metadata": {},
      "source": [
        "## 2. 그리드 기본: 방향 벡터 & 경계 체크\n",
        "- 2차원 시뮬/탐색에서 반복 사용\n",
        "- `in_bounds()` : 범위 밖 접근 방지"
      ]
    },
    {
      "cell_type": "code",
      "execution_count": null,
      "metadata": {},
      "outputs": [],
      "source": [
        "DIR4 = [(1,0), (-1,0), (0,1), (0,-1)]\n",
        "DIR8 = DIR4 + [(1,1), (1,-1), (-1,1), (-1,-1)]\n",
        "\n",
        "def in_bounds(y, x, H, W):\n",
        "    return 0 <= y < H and 0 <= x < W"
      ]
    },
    {
      "cell_type": "markdown",
      "metadata": {},
      "source": [
        "## 3. 리스트 초기화 함정\n",
        "- `[[0]*m]*n` 은 **얕은 복사**라 모든 행이 같은 객체를 가리킴 → 변경 시 전체가 변함\n",
        "- 컴프리헨션으로 새 객체 생성"
      ]
    },
    {
      "cell_type": "code",
      "execution_count": null,
      "metadata": {},
      "outputs": [],
      "source": [
        "def new_grid(n, m, val=0):\n",
        "    return [[val for _ in range(m)] for _ in range(n)]"
      ]
    },
    {
      "cell_type": "markdown",
      "metadata": {},
      "source": [
        "## 4. 문자열 필수 패턴\n",
        "- 회문 검사, 빈도수, 아스키 변환\n",
        "- 슬라이싱, `Counter` 적극 활용"
      ]
    },
    {
      "cell_type": "code",
      "execution_count": null,
      "metadata": {},
      "outputs": [],
      "source": [
        "def is_palindrome(s: str) -> bool:\n",
        "    return s == s[::-1]\n",
        "\n",
        "def char_freq(s: str):\n",
        "    return Counter(s)\n",
        "\n",
        "def to_ascii(c: str) -> int:\n",
        "    return ord(c)\n",
        "\n",
        "def from_ascii(v: int) -> str:\n",
        "    return chr(v)"
      ]
    },
    {
      "cell_type": "markdown",
      "metadata": {},
      "source": [
        "## 5. 정렬과 키\n",
        "- 다중 키 정렬 패턴 (오름/내림 혼합)\n",
        "- 정렬 안정성 활용 가능"
      ]
    },
    {
      "cell_type": "code",
      "execution_count": null,
      "metadata": {},
      "outputs": [],
      "source": [
        "def sort_by_keys(arr):\n",
        "    # 예: (a 오름, b 내림, c 오름)\n",
        "    arr.sort(key=lambda t: (t[0], -t[1], t[2]))"
      ]
    },
    {
      "cell_type": "markdown",
      "metadata": {},
      "source": [
        "## 6. 딕셔너리/집합 패턴\n",
        "- `defaultdict(int)` : 카운팅 기본값 0\n",
        "- 중복 제거(순서 보존) 구현"
      ]
    },
    {
      "cell_type": "code",
      "execution_count": null,
      "metadata": {},
      "outputs": [],
      "source": [
        "def dict_default_int():\n",
        "    return defaultdict(int)\n",
        "\n",
        "def unique_preserve_order(seq):\n",
        "    seen, out = set(), []\n",
        "    for x in seq:\n",
        "        if x not in seen:\n",
        "            seen.add(x)\n",
        "            out.append(x)\n",
        "    return out"
      ]
    },
    {
      "cell_type": "markdown",
      "metadata": {},
      "source": [
        "## 7. 스택/큐/덱\n",
        "- 리스트 스택, `deque` 큐\n",
        "- `appendleft/popleft`로 양방향 O(1)"
      ]
    },
    {
      "cell_type": "code",
      "execution_count": null,
      "metadata": {},
      "outputs": [],
      "source": [
        "def stack_example(items):\n",
        "    stack = []\n",
        "    for x in items:\n",
        "        stack.append(x)\n",
        "    while stack:\n",
        "        stack.pop()\n",
        "\n",
        "def queue_example(items):\n",
        "    q = deque(items)\n",
        "    q.append(1); q.appendleft(2)\n",
        "    q.pop(); q.popleft()\n",
        "    return q"
      ]
    },
    {
      "cell_type": "markdown",
      "metadata": {},
      "source": [
        "## 8. 힙/우선순위 큐\n",
        "- 파이썬 힙은 **최소 힙**\n",
        "- 최대 힙은 음수 푸시로 우회\n",
        "- `(우선순위, 값)` 형태로 커스텀 가능"
      ]
    },
    {
      "cell_type": "code",
      "execution_count": null,
      "metadata": {},
      "outputs": [],
      "source": [
        "def min_heap_example(vals):\n",
        "    h = []\n",
        "    for v in vals:\n",
        "        heapq.heappush(h, v)\n",
        "    return [heapq.heappop(h) for _ in range(len(h))]\n",
        "\n",
        "def max_heap_example(vals):\n",
        "    h = []\n",
        "    for v in vals:\n",
        "        heapq.heappush(h, -v)\n",
        "    return [-heapq.heappop(h) for _ in range(len(h))]\n",
        "\n",
        "def k_smallest_pairs(pairs, k):\n",
        "    h = []\n",
        "    for pr, v in pairs:\n",
        "        heapq.heappush(h, (pr, v))\n",
        "    out = []\n",
        "    for _ in range(min(k, len(h))):\n",
        "        out.append(heapq.heappop(h))\n",
        "    return out"
      ]
    },
    {
      "cell_type": "markdown",
      "metadata": {},
      "source": [
        "## 9. 이분 탐색 (bisect) & 매개변수 탐색\n",
        "- `bisect_left/right`로 경계 찾기\n",
        "- 구간 내 원소 개수/위치 계산\n",
        "- **매개변수 탐색** 템플릿 포함"
      ]
    },
    {
      "cell_type": "code",
      "execution_count": null,
      "metadata": {},
      "outputs": [],
      "source": [
        "def lower_bound(a, x):\n",
        "    return bisect_left(a, x)\n",
        "\n",
        "def upper_bound(a, x):\n",
        "    return bisect_right(a, x)\n",
        "\n",
        "def count_in_range(a, left, right):\n",
        "    return bisect_right(a, right) - bisect_left(a, left)\n",
        "\n",
        "def bin_search_min(lo, hi, feasible):\n",
        "    ans = hi + 1\n",
        "    while lo <= hi:\n",
        "        mid = (lo + hi) // 2\n",
        "        if feasible(mid):\n",
        "            ans = mid\n",
        "            hi = mid - 1\n",
        "        else:\n",
        "            lo = mid + 1\n",
        "    return ans"
      ]
    },
    {
      "cell_type": "markdown",
      "metadata": {},
      "source": [
        "## 10. 누적합 / 슬라이딩 윈도우 / 투포인터\n",
        "- 누적합으로 구간합 O(1)\n",
        "- 고정 윈도우 합 갱신 O(1)\n",
        "- 정렬된 비음수 배열에서 두 포인터 예시"
      ]
    },
    {
      "cell_type": "code",
      "execution_count": null,
      "metadata": {},
      "outputs": [],
      "source": [
        "def prefix_sum(arr):\n",
        "    ps = [0] * (len(arr) + 1)\n",
        "    for i, v in enumerate(arr, 1):\n",
        "        ps[i] = ps[i-1] + v\n",
        "    return ps\n",
        "\n",
        "def range_sum(ps, l, r):\n",
        "    return ps[r] - ps[l-1]\n",
        "\n",
        "def sliding_window_fixed(arr, k):\n",
        "    n = len(arr)\n",
        "    if k > n or k <= 0:\n",
        "        return []\n",
        "    s = sum(arr[:k])\n",
        "    out = [s]\n",
        "    for i in range(k, n):\n",
        "        s += arr[i] - arr[i-k]\n",
        "        out.append(s)\n",
        "    return out\n",
        "\n",
        "def two_pointers_nonneg(arr, target):\n",
        "    i, j = 0, len(arr) - 1\n",
        "    cnt = 0\n",
        "    while i < j:\n",
        "        s = arr[i] + arr[j]\n",
        "        if s == target:\n",
        "            cnt += 1; i += 1; j -= 1\n",
        "        elif s < target:\n",
        "            i += 1\n",
        "        else:\n",
        "            j -= 1\n",
        "    return cnt"
      ]
    },
    {
      "cell_type": "markdown",
      "metadata": {},
      "source": [
        "## 11. 그래프 기본 & 입력\n",
        "- (u, v[, w]) 형태 입력 처리\n",
        "- 무방향/유방향 선택 가능"
      ]
    },
    {
      "cell_type": "code",
      "execution_count": null,
      "metadata": {},
      "outputs": [],
      "source": [
        "def read_graph(n, m, one_indexed=True, undirected=True):\n",
        "    adj = [[] for _ in range(n + (1 if one_indexed else 0))]\n",
        "    for _ in range(m):\n",
        "        uv = list(map(int, input().split()))\n",
        "        if len(uv) == 2:\n",
        "            u, v = uv; w = 1\n",
        "        else:\n",
        "            u, v, w = uv\n",
        "        adj[u].append((v, w))\n",
        "        if undirected:\n",
        "            adj[v].append((u, w))\n",
        "    return adj"
      ]
    },
    {
      "cell_type": "markdown",
      "metadata": {},
      "source": [
        "## 12. BFS / 다익스트라 / DFS\n",
        "- BFS: 무가중 최단거리\n",
        "- 다익스트라: 비음수 가중 최단거리\n",
        "- DFS: 재귀/반복 모두 준비\n",
        "- 재귀 깊이 제한 상향 필수"
      ]
    },
    {
      "cell_type": "code",
      "execution_count": null,
      "metadata": {},
      "outputs": [],
      "source": [
        "def bfs(start, adj, N=None):\n",
        "    if N is None:\n",
        "        N = len(adj) - 1\n",
        "    dist = [INF] * (N + 1)\n",
        "    q = deque([start])\n",
        "    dist[start] = 0\n",
        "    while q:\n",
        "        u = q.popleft()\n",
        "        for v, w in adj[u]:\n",
        "            if dist[v] == INF:\n",
        "                dist[v] = dist[u] + 1\n",
        "                q.append(v)\n",
        "    return dist\n",
        "\n",
        "def dijkstra(start, adj, N=None):\n",
        "    if N is None:\n",
        "        N = len(adj) - 1\n",
        "    dist = [INF] * (N + 1)\n",
        "    dist[start] = 0\n",
        "    h = [(0, start)]\n",
        "    while h:\n",
        "        d, u = heapq.heappop(h)\n",
        "        if d != dist[u]:\n",
        "            continue\n",
        "        for v, w in adj[u]:\n",
        "            nd = d + w\n",
        "            if nd < dist[v]:\n",
        "                dist[v] = nd\n",
        "                heapq.heappush(h, (nd, v))\n",
        "    return dist\n",
        "\n",
        "sys.setrecursionlimit(1 << 25)\n",
        "def dfs_recursive(u, adj, vis):\n",
        "    vis[u] = True\n",
        "    for v, _ in adj[u]:\n",
        "        if not vis[v]:\n",
        "            dfs_recursive(v, adj, vis)\n",
        "\n",
        "def dfs_iterative(start, adj, N=None):\n",
        "    if N is None:\n",
        "        N = len(adj) - 1\n",
        "    vis = [False] * (N + 1)\n",
        "    st = [start]\n",
        "    while st:\n",
        "        u = st.pop()\n",
        "        if vis[u]:\n",
        "            continue\n",
        "        vis[u] = True\n",
        "        for v, _ in adj[u]:\n",
        "            if not vis[v]:\n",
        "                st.append(v)\n",
        "    return vis"
      ]
    },
    {
      "cell_type": "markdown",
      "metadata": {},
      "source": [
        "## 13. Union-Find (Disjoint Set Union)\n",
        "- 경로 압축 + 사이즈 기준 합치기\n",
        "- 연결성/사이클/군집 문제에 필수"
      ]
    },
    {
      "cell_type": "code",
      "execution_count": null,
      "metadata": {},
      "outputs": [],
      "source": [
        "class DSU:\n",
        "    def __init__(self, n):\n",
        "        self.parent = list(range(n+1))\n",
        "        self.size = [1]*(n+1)\n",
        "    def find(self, x):\n",
        "        while self.parent[x] != x:\n",
        "            self.parent[x] = self.parent[self.parent[x]]\n",
        "            x = self.parent[x]\n",
        "        return x\n",
        "    def union(self, a, b):\n",
        "        ra, rb = self.find(a), self.find(b)\n",
        "        if ra == rb: return False\n",
        "        if self.size[ra] < self.size[rb]:\n",
        "            ra, rb = rb, ra\n",
        "        self.parent[rb] = ra\n",
        "        self.size[ra] += self.size[rb]\n",
        "        return True"
      ]
    },
    {
      "cell_type": "markdown",
      "metadata": {},
      "source": [
        "## 14. 수학 유틸리티\n",
        "- 최대공약수/최소공배수\n",
        "- 에라토스테네스 체\n",
        "- 모듈러 거듭제곱 (빠른 거듭제곱)"
      ]
    },
    {
      "cell_type": "code",
      "execution_count": null,
      "metadata": {},
      "outputs": [],
      "source": [
        "def gcd(a, b):\n",
        "    return math.gcd(a, b)\n",
        "\n",
        "def lcm(a, b):\n",
        "    return a // gcd(a, b) * b\n",
        "\n",
        "def sieve(n):\n",
        "    is_prime = [True]*(n+1)\n",
        "    is_prime[0:2] = [False, False]\n",
        "    for p in range(2, int(n**0.5)+1):\n",
        "        if is_prime[p]:\n",
        "            step = p\n",
        "            start = p*p\n",
        "            is_prime[start:n+1:step] = [False]*(((n - start)//step) + 1)\n",
        "    primes = [i for i, v in enumerate(is_prime) if v]\n",
        "    return primes, is_prime\n",
        "\n",
        "def mod_pow(a, e, mod):\n",
        "    return pow(a, e, mod)"
      ]
    },
    {
      "cell_type": "markdown",
      "metadata": {},
      "source": [
        "## 15. 통계 기본기 (NumPy 없이)\n",
        "- 평균/분산/표준편차\n",
        "- 공분산/상관계수\n",
        "- 표본분산이 필요하면 분모를 `n-1`로 수정"
      ]
    },
    {
      "cell_type": "code",
      "execution_count": null,
      "metadata": {},
      "outputs": [],
      "source": [
        "class Statistics:\n",
        "    def __init__(self, xs):\n",
        "        self.xs = list(xs)\n",
        "        self.n = len(self.xs)\n",
        "    def mean(self):\n",
        "        return sum(self.xs) / self.n if self.n else 0.0\n",
        "    def variance(self):\n",
        "        if self.n == 0:\n",
        "            return 0.0\n",
        "        mu = self.mean()\n",
        "        return sum((x - mu) ** 2 for x in self.xs) / self.n\n",
        "    def std(self):\n",
        "        return self.variance() ** 0.5\n",
        "\n",
        "def covariance(xs, ys):\n",
        "    n = len(xs)\n",
        "    if n == 0 or n != len(ys):\n",
        "        return 0.0\n",
        "    mx = sum(xs) / n; my = sum(ys) / n\n",
        "    return sum((x - mx)*(y - my) for x, y in zip(xs, ys)) / n\n",
        "\n",
        "def correlation(xs, ys):\n",
        "    cov = covariance(xs, ys)\n",
        "    vx = Statistics(xs).variance()\n",
        "    vy = Statistics(ys).variance()\n",
        "    denom = (vx * vy) ** 0.5\n",
        "    return cov / denom if denom != 0 else 0.0"
      ]
    },
    {
      "cell_type": "markdown",
      "metadata": {},
      "source": [
        "## 16. itertools 요약 & 부분집합 생성\n",
        "- 순열/조합/데카르트 곱\n",
        "- 모든 부분집합 생성 유틸리티"
      ]
    },
    {
      "cell_type": "code",
      "execution_count": null,
      "metadata": {},
      "outputs": [],
      "source": [
        "def all_subsets(seq):\n",
        "    n = len(seq)\n",
        "    res = []\n",
        "    for r in range(n+1):\n",
        "        res.extend(combinations(seq, r))\n",
        "    return res"
      ]
    },
    {
      "cell_type": "markdown",
      "metadata": {},
      "source": [
        "## 17. 테스트케이스 스켈레톤\n",
        "- 단일/다중 테스트케이스 공통 골격\n",
        "- 입출력 자리만 바꿔서 빠르게 시작 가능"
      ]
    },
    {
      "cell_type": "code",
      "execution_count": null,
      "metadata": {},
      "outputs": [],
      "source": [
        "def single_case_skeleton():\n",
        "    N = int(input().strip())\n",
        "    arr = ints()\n",
        "    print(sum(arr))\n",
        "\n",
        "def multi_case_skeleton():\n",
        "    T = int(input().strip())\n",
        "    out = []\n",
        "    for _ in range(T):\n",
        "        n = int(input().strip())\n",
        "        a = ints()\n",
        "        out.append(str(sum(a)))\n",
        "    print_lines(out)"
      ]
    },
    {
      "cell_type": "markdown",
      "metadata": {},
      "source": [
        "## 18. 미니 DataFrame 흉내 (pandas 없이)\n",
        "- 간단 `groupby-sum` 구현 예시\n",
        "- 문제에서 요구하는 간단 집계엔 충분"
      ]
    },
    {
      "cell_type": "code",
      "execution_count": null,
      "metadata": {},
      "outputs": [],
      "source": [
        "def groupby_sum(rows, key_idx, val_idx):\n",
        "    acc = defaultdict(int)\n",
        "    for r in rows:\n",
        "        acc[r[key_idx]] += r[val_idx]\n",
        "    return acc"
      ]
    },
    {
      "cell_type": "markdown",
      "metadata": {},
      "source": [
        "---\n",
        "### 사용 팁\n",
        "- 각 섹션을 문제 요구에 맞게 복붙 → 변수명만 조정\n",
        "- 시간 초과가 보이면: `set/dict` 사용, 불필요한 리스트 생성 제거, `join`으로 문자열 결합\n",
        "- 재귀 깊은 문제: `sys.setrecursionlimit` 상향\n",
        "- 입력이 큰 그래프: `read_graph` 대신 직접 최적화 입력 파싱 고려"
      ]
    }
  ],
  "metadata": {
    "kernelspec": {
      "display_name": "Python 3",
      "language": "python",
      "name": "python3"
    },
    "language_info": {
      "codemirror_mode": {
        "name": "ipython",
        "version": 3
      },
      "file_extension": ".py",
      "mimetype": "text/x-python",
      "name": "python",
      "nbconvert_exporter": "python",
      "pygments_lexer": "ipython3",
      "version": "3.11.8"
    }
  },
  "nbformat": 4,
  "nbformat_minor": 5
}
