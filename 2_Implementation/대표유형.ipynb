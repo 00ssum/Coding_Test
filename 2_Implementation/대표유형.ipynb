{
 "cells": [
  {
   "cell_type": "markdown",
   "metadata": {},
   "source": [
    "# 구현\n",
    "풀이를 떠올리는건 쉽지만 소스코드로 옮기기 어려운 문제\n",
    "\n",
    "- 완전탐색 : 모든 경우의 수를 주저없이 다 계산\n",
    "- 시뮬레이션 : 문제에서 제시한 알고리즘을 한단걔씩 차례로 수행"
   ]
  },
  {
   "cell_type": "markdown",
   "metadata": {},
   "source": [
    "- 리스트: 메모리 고려해야함.  길이(요소갯수): 10,1000,000 => 약 40MB (리스트를 여러개 만들때 요구한 메모리 넘지않도록 주의)\n",
    "- Pypy3 -> python과 문법동일, 실행시간 더 빠름"
   ]
  },
  {
   "cell_type": "code",
   "execution_count": null,
   "metadata": {},
   "outputs": [],
   "source": []
  }
 ],
 "metadata": {
  "language_info": {
   "name": "python"
  }
 },
 "nbformat": 4,
 "nbformat_minor": 2
}
