{
 "cells": [
  {
   "cell_type": "markdown",
   "metadata": {},
   "source": [
    "# Greedy"
   ]
  },
  {
   "cell_type": "markdown",
   "metadata": {},
   "source": [
    "지금 당장 가장 좋은 방식을 선택. 나중에 미칠 영향 고려안함 \n",
    "\n",
    "\n",
    "최적의 해를 보장 할 수 없을때가 많음 (하지만 코테에선 그리디가 최적의 결과값을 갖는다는 전제로 출제하는 문제가 많음)\n",
    "\n",
    "\n",
    "tip. 사전에 외우지 않아도 풀 수 있는 가능성이 높은 문제 (ex. 정렬은 정렬 알고리즘을 외우고 있어야함) but 그리디의 다익스트라알고리즘은 외우고 있어야함\n",
    "\n",
    "\n",
    "tip. 현재 상황에서 가장 좋아보이는것만 선택해도 풀수있는 문젠지 파악 할 수 있어야함.\n",
    "\n",
    "tip.  문제풀이를 위한 최소한의 아이디어를 떠올리고 정당한지 검토해야함 (최적해 보장 고민) "
   ]
  },
  {
   "cell_type": "markdown",
   "metadata": {},
   "source": [
    "## 대표유형"
   ]
  },
  {
   "cell_type": "markdown",
   "metadata": {},
   "source": [
    "### 1. 거스름돈\n",
    "- 가장 큰 화폐부터 돈을 거슬러 줘야함\n",
    "- 그리디로 거스름돈 문제를 풀었을 때, 최적해인 이유 : 큰 단위가 항상 작은 단위의 배수이기 때문에\n",
    "\n",
    " (ex. 800원을 거슬러 줄때 500, 400, 100짜리 동전이 있는 경우 5+1*3은 최적의 해가 아님 , 4*2가 최적임. 이는 400원이 큰단위인 500원의 배수가 아니기 때문, 따라서 이런 경우엔 최적의 해를 보장 하지 않음)"
   ]
  },
  {
   "cell_type": "code",
   "execution_count": null,
   "metadata": {},
   "outputs": [
    {
     "name": "stdout",
     "output_type": "stream",
     "text": [
      "6\n"
     ]
    }
   ],
   "source": [
    "money = 1260\n",
    "coin_type=[500, 100, 50, 10]\n",
    "count=0\n",
    "\n",
    "for coin in coin_type:  # => 시간복잡도는 화폐 종류에만 영향 받음(총 금액 상관없음)\n",
    "    count += money // coin \n",
    "    money %= coin\n",
    "\n",
    "print(count)"
   ]
  },
  {
   "cell_type": "markdown",
   "metadata": {},
   "source": [
    "### 2. 큰 수의 법칙"
   ]
  },
  {
   "cell_type": "markdown",
   "metadata": {},
   "source": [
    "M번 더해서 가장 큰수를 만드는 문제. 단, 특정 인덱스에 해당하는 수는 연속으로 k번 이상 더 할 수 없음\n",
    "\n",
    "\n",
    "(인덱스가 다르면 같은 수도 다르다고 여김)\n",
    "\n",
    "N 배열크기, M 최종적으로 숫자가 더해지는 횟수, K 최대로 연속 할 수 있는 갯수"
   ]
  },
  {
   "cell_type": "markdown",
   "metadata": {},
   "source": [
    "내 풀이 (틀리진 않았으나 시간 복잡도에서 오답이 될 수 있음.)"
   ]
  },
  {
   "cell_type": "code",
   "execution_count": 4,
   "metadata": {},
   "outputs": [
    {
     "name": "stdout",
     "output_type": "stream",
     "text": [
      "46\n"
     ]
    }
   ],
   "source": [
    "N, M, K = map(int, input().split())\n",
    "arr= list(map(int, input().split())) #list로 입력받기\n",
    "arr.sort(reverse=True) #내림차순\n",
    "\n",
    "total=0\n",
    "k_num=0\n",
    "\n",
    "for i in range(M):\n",
    "    if k_num==0:\n",
    "        total+=arr[1]\n",
    "        k_num=K\n",
    "    else:\n",
    "        total+=arr[0]\n",
    "        k_num-=1\n",
    "    \n",
    "print(total)"
   ]
  },
  {
   "cell_type": "markdown",
   "metadata": {},
   "source": [
    "시간 복잡도를 줄인 풀이 (for문 제거)\n",
    "\n",
    "- 반복되는 수열에 대해 파악함 "
   ]
  },
  {
   "cell_type": "code",
   "execution_count": 5,
   "metadata": {},
   "outputs": [
    {
     "name": "stdout",
     "output_type": "stream",
     "text": [
      "46\n"
     ]
    }
   ],
   "source": [
    "N, M, K = map(int, input().split())\n",
    "arr= list(map(int, input().split())) #list로 입력받기\n",
    "arr.sort(reverse=True) #내림차순\n",
    "\n",
    "a_max=arr[0]\n",
    "a_second_max=arr[1]\n",
    "\n",
    "one_set= a_max * K + a_second_max # ex. k=3 일때. max + max + max + second_max => 이게 한개의 set이 됨 \n",
    "\n",
    "total= (M // (K+1)) *one_set # set 처리\n",
    "total+= (M % (K+1)) * a_max # 나머지 처리\n",
    "print(total)"
   ]
  },
  {
   "cell_type": "markdown",
   "metadata": {},
   "source": [
    "### 3. 숫자 카드 게임\n",
    "- 여러 카드중, 가장 높은 숫자가 쓰인 카드 뽑기 (룰에 맞게)"
   ]
  },
  {
   "cell_type": "code",
   "execution_count": 8,
   "metadata": {},
   "outputs": [
    {
     "name": "stdout",
     "output_type": "stream",
     "text": [
      "3\n"
     ]
    }
   ],
   "source": [
    "n, m = map(int, input().split())\n",
    "\n",
    "result=0\n",
    "for i in range(n):\n",
    "    row = list(map(int, input().split()))\n",
    "    # if min(row) > mini:\n",
    "    #     mini = min(row)\n",
    "    mini= min(row)\n",
    "    result = max(result, mini)\n",
    "\n",
    "print(result)"
   ]
  },
  {
   "cell_type": "markdown",
   "metadata": {},
   "source": [
    "### 4. 1이 될 때까지\n",
    "어떠한 수 N이 1이 될때까지 반복적으로 아래 작업 수행. 1이 되기까지 최소로 수행해야한 작업 횟수\n",
    "1. (안나눠지면) N에서 1을 뺀다\n",
    "2. (N이 K로 나눠 질때만) N을 K로 나눈다"
   ]
  },
  {
   "cell_type": "code",
   "execution_count": 10,
   "metadata": {},
   "outputs": [
    {
     "name": "stdout",
     "output_type": "stream",
     "text": [
      "2\n"
     ]
    }
   ],
   "source": [
    "N, K = map(int, input().split())\n",
    "C=0\n",
    "\n",
    "while True:\n",
    "    if N==1:\n",
    "        break\n",
    "    else:\n",
    "        if N % K == 0:\n",
    "            N/=K\n",
    "            C+=1\n",
    "        else:\n",
    "            N-=1\n",
    "            C+=1\n",
    "\n",
    "print(C)"
   ]
  }
 ],
 "metadata": {
  "kernelspec": {
   "display_name": "Python 3",
   "language": "python",
   "name": "python3"
  },
  "language_info": {
   "codemirror_mode": {
    "name": "ipython",
    "version": 3
   },
   "file_extension": ".py",
   "mimetype": "text/x-python",
   "name": "python",
   "nbconvert_exporter": "python",
   "pygments_lexer": "ipython3",
   "version": "3.10.16"
  }
 },
 "nbformat": 4,
 "nbformat_minor": 2
}
