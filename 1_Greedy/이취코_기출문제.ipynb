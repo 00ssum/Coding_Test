{
 "cells": [
  {
   "cell_type": "markdown",
   "metadata": {},
   "source": [
    "**문제 풀때 오름차순? 내림차순? 헷갈릴때**\n",
    "- 최대한 많이 만드는게 목적인지, 최대한 적게 만드는게 목적인지 생각해보기\n",
    "(조건을 빨리 만족 시키려면 어떤 방향으로 정렬시켜야 할지 감이옴)\n",
    "- 최대화(ex. 그룹수) -> 오름차순 정렬/ 최소화 -> 내림차순 정렬\n",
    "\n",
    "- 또한, 극단적인 test case를 가정하고 실제로 대입해서 결과가 맞게 출력되는지 확인해보기\n"
   ]
  },
  {
   "cell_type": "markdown",
   "metadata": {},
   "source": [
    "###  ⚠️1. 모험가 길드"
   ]
  },
  {
   "cell_type": "markdown",
   "metadata": {},
   "source": [
    "본 문제에선, 최대한 많은 그룹을 만드는게 목표이다\n",
    "- 한 그룹안에 속한 사람이 적을수록 많은 그룹을 만들 수 있음. (공포도 <= 그룹인원)\n",
    "- 따라서 오름차순 정렬이 적합함\n",
    "\n",
    "- test case 다양하게 구성해보기\n",
    "ex. [3, 3, 3, 3, 3] [1, 1, 1, 1, 1] [3, 2, 2, 1, 1, 1] [1, 2, 3, 4, 5]"
   ]
  },
  {
   "cell_type": "code",
   "execution_count": null,
   "metadata": {},
   "outputs": [],
   "source": [
    "# 내 풀이----------------\n",
    "N = int(input())\n",
    "arr= list(map(int, input().split())) \n",
    "arr.sort(reverse=True) # 3 2 2 2 1\n",
    "\n",
    "k=1 #공포도\n",
    "group=0 #그룹수\n",
    "for i in range(N):\n",
    "    if k == 1:\n",
    "        k = arr[i]\n",
    "        group+=1\n",
    "    else:\n",
    "        k-=1\n",
    "print(group)\n",
    "\n",
    "\n",
    "#책 풀이----------------\n",
    "N = int(input())\n",
    "arr= list(map(int, input().split())) \n",
    "arr.sort()\n",
    "\n",
    "count = 0 # 그룹에 포함된 모험가의 수\n",
    "group = 0 # 총 그룹의 수\n",
    "\n",
    "for i in arr: \n",
    "    count += 1 # 현재 그룹에 해당 모험가를 포함\n",
    "    if count >= i: # 현재 그룹에 포함된 모험가의 수 >= 현재의 공포도\n",
    "        group += 1 # 그룹 생성\n",
    "        count = 0 # 현재 그룹에 포함된 모험가의 수 초기화\n",
    "print(group)"
   ]
  },
  {
   "cell_type": "markdown",
   "metadata": {},
   "source": [
    "### 2. 곱하기 혹은 더하기"
   ]
  },
  {
   "cell_type": "code",
   "execution_count": null,
   "metadata": {},
   "outputs": [],
   "source": [
    "s=str(input())\n",
    "total=int(s[0])\n",
    "for i in range(1, len(s)):\n",
    "    if (int(s[i]) == 0 or int(s[i]) == 1) or (total == 0 or total == 1): #if (int(s[i]) == 0 or 1) or (total == 0 or 1): 안됨. 식을 다 써야함\n",
    "    # if (int(s[i]) <= 1 ) or (total <= 1) # 책 풀이 (윗 코드를 간단하게)\n",
    "        total += int(s[i])\n",
    "    else:\n",
    "        total *= int(s[i])\n",
    "\n",
    "print(total)"
   ]
  },
  {
   "cell_type": "markdown",
   "metadata": {},
   "source": [
    "### ⚠️3. 문자열 뒤집기"
   ]
  },
  {
   "cell_type": "code",
   "execution_count": null,
   "metadata": {},
   "outputs": [],
   "source": [
    "s=list(map(int, input())) \n",
    "\n",
    "count = 0 #최소로 연속되는 부분 찾기\n",
    "change = 0 #뒤집은 횟수\n",
    "\n",
    "#최소로 연속되는 부분 찾는 함수\n",
    "def \n",
    "\n",
    "\n",
    "# 뒤집고 새로 다시 초기화 => 다 같아 질때까지 반복\n",
    "\n",
    "\n",
    "\n",
    "\n"
   ]
  },
  {
   "cell_type": "markdown",
   "metadata": {},
   "source": [
    "### ⚠️4. 만들 수 없는 금액"
   ]
  },
  {
   "cell_type": "code",
   "execution_count": null,
   "metadata": {},
   "outputs": [],
   "source": [
    "from itertools import combinations\n",
    "\n",
    "n = input()\n",
    "arr= list(map(int, input().split())) \n",
    "\n",
    "can= 1\n",
    "sum_arr=arr\n",
    "k=1\n",
    "def com_sum(num):\n",
    "    global sum_arr\n",
    "    r=list(combinations(arr,num))\n",
    "    new=[sum(t) for t in r]\n",
    "    print(new)\n",
    "    sum_arr+=new\n",
    "    print(sum_arr)\n",
    "\n",
    "\n",
    "while True:\n",
    "    if can in sum_arr : #can만들수 있음\n",
    "        k+=1\n",
    "        com_sum(k)\n",
    "    else: #can a만들수없음\n",
    "        print(can)\n",
    "        break"
   ]
  },
  {
   "cell_type": "markdown",
   "metadata": {},
   "source": [
    "### 5. 볼링공 고르기"
   ]
  },
  {
   "cell_type": "code",
   "execution_count": 13,
   "metadata": {},
   "outputs": [
    {
     "name": "stdout",
     "output_type": "stream",
     "text": [
      "25\n"
     ]
    }
   ],
   "source": [
    "n, m = map(int, input().split())\n",
    "arr= list(map(int, input().split())) \n",
    "\n",
    "count =0\n",
    "\n",
    "from itertools import combinations\n",
    "r=list(combinations(arr,2))\n",
    "for i in range(0,len(r)):\n",
    "    if r[i][0] != r[i][1]: #arr = [(1, 2), (3, 4)] 일때, [][]로 각원소 접근 가능\n",
    "        count+=1\n",
    "print(count)\n"
   ]
  },
  {
   "cell_type": "markdown",
   "metadata": {},
   "source": [
    "### 6. 무지의 먹방 라이브"
   ]
  },
  {
   "cell_type": "markdown",
   "metadata": {},
   "source": [
    "https://school.programmers.co.kr/learn/courses/30/lessons/42891"
   ]
  },
  {
   "cell_type": "code",
   "execution_count": null,
   "metadata": {},
   "outputs": [
    {
     "name": "stdout",
     "output_type": "stream",
     "text": [
      "200000\n",
      "time 173.33240938186646\n"
     ]
    }
   ],
   "source": [
    "# 내가 작성한 코드 - > 시간 복잡도에 문제 있음.\n",
    "\n",
    "import time\n",
    "start_time= time.time()\n",
    "def solution(food_t, k): \n",
    "    while True:\n",
    "        for i in range(0, len(food_t)):\n",
    "            if k==0 and food_t[i] !=0:\n",
    "                return i+1\n",
    "            if len(food_t)==food_t.count(0):\n",
    "                return -1\n",
    "\n",
    "            if food_t[i] !=0:\n",
    "                food_t[i]-=1\n",
    "                k-=1\n",
    "\n",
    "print(solution([1] * 200000,199999))\n",
    "end_time=time.time()\n",
    "print(\"time\", end_time-start_time)\n",
    "\n"
   ]
  },
  {
   "cell_type": "code",
   "execution_count": null,
   "metadata": {},
   "outputs": [
    {
     "name": "stdout",
     "output_type": "stream",
     "text": [
      "200000\n",
      "time 0.05655622482299805\n"
     ]
    }
   ],
   "source": [
    "#우선순위 큐 공부하고 다시 확인하기\n",
    "\n",
    "\n",
    "import heapq\n",
    "import time\n",
    "start_time= time.time()\n",
    "\n",
    "def solution(food_times, k):\n",
    "    if sum(food_times) <= k:\n",
    "        return -1\n",
    "\n",
    "    q = []\n",
    "    for i in range(len(food_times)):\n",
    "        heapq.heappush(q, (food_times[i], i + 1))\n",
    "\n",
    "    sum_value = 0  # 먹기 위해 사용한 시간\n",
    "    previous = 0    # 직전에 다 먹은 음식 시간\n",
    "    length = len(food_times)  # 남은 음식 개수\n",
    "\n",
    "    # 전체 음식을 한 바퀴 돌며 확인\n",
    "    while sum_value + ((q[0][0] - previous) * length) <= k:\n",
    "        now = heapq.heappop(q)[0]\n",
    "        sum_value += (now - previous) * length\n",
    "        length -= 1  # 다 먹은 음식 제외\n",
    "        previous = now  # 직전 음식 시간 갱신\n",
    "\n",
    "    # 남은 음식 중에서 다음에 먹을 음식 찾기\n",
    "    result = sorted(q, key=lambda x: x[1])\n",
    "    return result[(k - sum_value) % length][1]\n",
    "\n",
    "print(solution([1] * 200000,199999))\n",
    "end_time=time.time()\n",
    "print(\"time\", end_time-start_time)\n"
   ]
  }
 ],
 "metadata": {
  "kernelspec": {
   "display_name": "Python 3",
   "language": "python",
   "name": "python3"
  },
  "language_info": {
   "codemirror_mode": {
    "name": "ipython",
    "version": 3
   },
   "file_extension": ".py",
   "mimetype": "text/x-python",
   "name": "python",
   "nbconvert_exporter": "python",
   "pygments_lexer": "ipython3",
   "version": "3.10.16"
  }
 },
 "nbformat": 4,
 "nbformat_minor": 2
}
