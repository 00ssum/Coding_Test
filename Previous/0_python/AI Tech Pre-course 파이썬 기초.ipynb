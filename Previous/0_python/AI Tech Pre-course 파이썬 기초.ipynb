{
 "cells": [
  {
   "cell_type": "markdown",
   "metadata": {
    "id": "A-m-1O0-5ysX"
   },
   "source": [
    "# 2.3 Conditionals and Loops\n"
   ]
  },
  {
   "cell_type": "markdown",
   "metadata": {
    "id": "JkWCNwum-TrA"
   },
   "source": [
    "## 2.3.1 Conditionals"
   ]
  },
  {
   "cell_type": "code",
   "execution_count": 21,
   "metadata": {
    "colab": {
     "base_uri": "https://localhost:8080/"
    },
    "executionInfo": {
     "elapsed": 258,
     "status": "ok",
     "timestamp": 1622809217918,
     "user": {
      "displayName": "Sangwook Kim",
      "photoUrl": "",
      "userId": "01536500841134132118"
     },
     "user_tz": -540
    },
    "id": "b88wUpRv59Ff",
    "outputId": "2769def1-6336-421f-8513-65c96da574de"
   },
   "outputs": [
    {
     "name": "stdout",
     "output_type": "stream",
     "text": [
      "-------------------주소 비교문 is-------------------\n",
      "True\n",
      "True\n",
      "False\n",
      "-------------------존재하면 참 아니면 거짓--------------------\n",
      "hello\n",
      "bye\n",
      "--------------------Boolean List -------------------\n",
      "False\n",
      "True\n",
      "---------------------삼항연산자------------------------\n",
      "True\n",
      "----------------------------------------------------------\n"
     ]
    }
   ],
   "source": [
    "print('-------------------주소 비교문 is-------------------')\n",
    "# 주소 비교문 is\n",
    "a = 100\n",
    "b = 100\n",
    "print(a == b)\n",
    "print(a is b)\n",
    "\n",
    "# -5 ~ 256 까지는 미리 만들어둠\n",
    "a = 300\n",
    "b = 300\n",
    "print(a is b)\n",
    "\n",
    "print('-------------------존재하면 참 아니면 거짓--------------------')\n",
    "\n",
    "# 존재하면 참 아니면 거짓\n",
    "if '1':\n",
    "    print('hello')\n",
    "else:\n",
    "    print('bye')\n",
    "\n",
    "if 0:\n",
    "    print('hello')\n",
    "else:\n",
    "    print('bye')\n",
    "\n",
    "print('--------------------Boolean List -------------------')\n",
    "# Boolean List \n",
    "boolean_list = [True, True, True, True, False, True]\n",
    "print(all(boolean_list))\n",
    "print(any(boolean_list))\n",
    "\n",
    "print('---------------------삼항연산자------------------------')\n",
    "# 삼항연산자\n",
    "values = 12\n",
    "is_even = True if values & 2 == 0 else False\n",
    "print(is_even)\n",
    "\n",
    "print('----------------------------------------------------------')\n"
   ]
  },
  {
   "cell_type": "markdown",
   "metadata": {
    "id": "o-lWmme778Fs"
   },
   "source": [
    "## 2.3.2 Loop"
   ]
  },
  {
   "cell_type": "code",
   "execution_count": null,
   "metadata": {
    "id": "f30bOPhW-etO"
   },
   "outputs": [],
   "source": [
    "# 리스트에 바로 담기\n",
    "lTemp = list(range(5))\n",
    "print(lTemp)\n",
    "\n",
    "# 간격을 두고 세기 (시작, 끝, 증가량)\n",
    "for i in range(1, 10, 2):\n",
    "     print(i)\n",
    "else:\n",
    "  print('EOF')\n",
    "\n",
    "# 나누기, 몫\n",
    "a1, b1 = divmod(10, 3)\n",
    "print(f'a = {a1}, b = {b1}')"
   ]
  }
 ],
 "metadata": {
  "colab": {
   "authorship_tag": "ABX9TyNkMRo15+mIdwfKpAcH39ET",
   "collapsed_sections": [],
   "name": "AI Tech Pre-course 파이썬 기초.ipynb",
   "provenance": []
  },
  "kernelspec": {
   "display_name": "Python 3",
   "name": "python3"
  },
  "language_info": {
   "name": "python"
  }
 },
 "nbformat": 4,
 "nbformat_minor": 0
}
