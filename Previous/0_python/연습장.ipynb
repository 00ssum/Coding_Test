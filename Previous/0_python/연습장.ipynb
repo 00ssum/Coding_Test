{
 "cells": [
  {
   "cell_type": "code",
   "execution_count": null,
   "metadata": {
    "colab": {
     "base_uri": "https://localhost:8080/"
    },
    "executionInfo": {
     "elapsed": 368,
     "status": "ok",
     "timestamp": 1624884200532,
     "user": {
      "displayName": "Sangwook Kim",
      "photoUrl": "",
      "userId": "01536500841134132118"
     },
     "user_tz": -540
    },
    "id": "Cw_lm6ZCtZj4",
    "outputId": "cb4df3f2-03e5-4605-e925-37299ff10f86"
   },
   "outputs": [
    {
     "name": "stdout",
     "output_type": "stream",
     "text": [
      "1\n",
      "1\n",
      "2\n",
      "1\n",
      "5\n",
      "11\n"
     ]
    }
   ],
   "source": [
    "# heapq\n",
    "import heapq\n",
    "\n",
    "temp = [1,4,1,6,2]\n",
    "heapq.heapify(temp)\n",
    "print(heapq.heappop(temp))\n",
    "print(heapq.heappop(temp))\n",
    "print(heapq.heappop(temp))\n",
    "\n",
    "queue = []\n",
    "heapq.heappush(queue, 11)\n",
    "heapq.heappush(queue, 1)\n",
    "heapq.heappush(queue, 5)\n",
    "\n",
    "print(heapq.heappop(queue))\n",
    "print(heapq.heappop(queue))\n",
    "print(heapq.heappop(queue))"
   ]
  },
  {
   "cell_type": "code",
   "execution_count": null,
   "metadata": {
    "colab": {
     "base_uri": "https://localhost:8080/"
    },
    "executionInfo": {
     "elapsed": 236,
     "status": "ok",
     "timestamp": 1623677805478,
     "user": {
      "displayName": "Sangwook Kim",
      "photoUrl": "",
      "userId": "01536500841134132118"
     },
     "user_tz": -540
    },
    "id": "ODniSpoxty_W",
    "outputId": "fececd9f-b4c7-4555-b222-01ac1f4cf130"
   },
   "outputs": [
    {
     "name": "stdout",
     "output_type": "stream",
     "text": [
      "deque([5, 4, 1, 2, 3])\n",
      "deque([4, 1, 2, 3])\n",
      "deque([3, 4, 1, 2])\n"
     ]
    }
   ],
   "source": [
    "from collections import deque\n",
    "\n",
    "dq = deque()\n",
    "\n",
    "dq.append(1)\n",
    "dq.append(2)\n",
    "dq.append(3)\n",
    "dq.appendleft(4)\n",
    "dq.appendleft(5)\n",
    "#54123\n",
    "print(dq)\n",
    "dq.popleft()\n",
    "print(dq)\n",
    "dq.rotate(1)\n",
    "print(dq)\n"
   ]
  },
  {
   "cell_type": "code",
   "execution_count": null,
   "metadata": {
    "colab": {
     "base_uri": "https://localhost:8080/"
    },
    "executionInfo": {
     "elapsed": 237,
     "status": "ok",
     "timestamp": 1623677919637,
     "user": {
      "displayName": "Sangwook Kim",
      "photoUrl": "",
      "userId": "01536500841134132118"
     },
     "user_tz": -540
    },
    "id": "bAe4nsuBvZWC",
    "outputId": "34cbcd01-43ba-4914-c46b-11d2e29dc62d"
   },
   "outputs": [
    {
     "name": "stdout",
     "output_type": "stream",
     "text": [
      "<re.Match object; span=(0, 1), match='0'>\n",
      "<re.Match object; span=(0, 1), match='0'>\n",
      "****Asdv-.as**\n"
     ]
    }
   ],
   "source": [
    "import re\n",
    "\n",
    "s = '0123Asdv-.as12'\n",
    "print(re.match('[0-9]', s))\n",
    "print(re.search('[0-9]', s))\n",
    "\n",
    "print(re.sub('[0-9]', '*',s))"
   ]
  },
  {
   "cell_type": "code",
   "execution_count": null,
   "metadata": {
    "colab": {
     "base_uri": "https://localhost:8080/"
    },
    "executionInfo": {
     "elapsed": 259,
     "status": "ok",
     "timestamp": 1623678022805,
     "user": {
      "displayName": "Sangwook Kim",
      "photoUrl": "",
      "userId": "01536500841134132118"
     },
     "user_tz": -540
    },
    "id": "NHvSm1oFv46s",
    "outputId": "122f9272-2afd-412c-8f48-ee4cc43136cd"
   },
   "outputs": [
    {
     "name": "stdout",
     "output_type": "stream",
     "text": [
      "        12\n",
      "12\n"
     ]
    }
   ],
   "source": [
    "s = '12'\n",
    "\n",
    "s = s.rjust(10, ' ')\n",
    "print(s)\n",
    "print(s.lstrip())"
   ]
  },
  {
   "cell_type": "code",
   "execution_count": null,
   "metadata": {
    "colab": {
     "base_uri": "https://localhost:8080/"
    },
    "executionInfo": {
     "elapsed": 243,
     "status": "ok",
     "timestamp": 1623678246936,
     "user": {
      "displayName": "Sangwook Kim",
      "photoUrl": "",
      "userId": "01536500841134132118"
     },
     "user_tz": -540
    },
    "id": "3IIejntJwMJN",
    "outputId": "14718fb4-e877-491b-a94e-fe7d5fdf858b"
   },
   "outputs": [
    {
     "name": "stdout",
     "output_type": "stream",
     "text": [
      "29.24931506849315\n",
      "2019-07-18 01:05:10\n"
     ]
    }
   ],
   "source": [
    "from datetime import datetime, timedelta\n",
    "\n",
    "dt1 = datetime(1992,3,22)\n",
    "dt2 = datetime(2021,6,14)\n",
    "\n",
    "print((dt2 - dt1).days/365)\n",
    "\n",
    "dt3 = datetime(2019, 7, 17)\n",
    "print(dt3 + timedelta(hours = 25, minutes = 5, seconds = 10))"
   ]
  },
  {
   "cell_type": "code",
   "execution_count": null,
   "metadata": {
    "colab": {
     "base_uri": "https://localhost:8080/"
    },
    "executionInfo": {
     "elapsed": 7,
     "status": "ok",
     "timestamp": 1623803244098,
     "user": {
      "displayName": "Sangwook Kim",
      "photoUrl": "",
      "userId": "01536500841134132118"
     },
     "user_tz": -540
    },
    "id": "4tT0do3GLNWS",
    "outputId": "e360dcda-9138-4b1e-def9-bd9034287098"
   },
   "outputs": [
    {
     "name": "stdout",
     "output_type": "stream",
     "text": [
      "4\n"
     ]
    },
    {
     "data": {
      "text/plain": [
       "0"
      ]
     },
     "execution_count": 1,
     "metadata": {
      "tags": []
     },
     "output_type": "execute_result"
    }
   ],
   "source": [
    "def solution(citations):\n",
    "    h = 0\n",
    "\n",
    "    while len([i for i in citations if i >= h]) >= h:\n",
    "      h += 1  \n",
    "\n",
    "    print(h)\n",
    "    return answer\n",
    "\n",
    "solution([3, 0, 6, 1, 5]) #3"
   ]
  },
  {
   "cell_type": "code",
   "execution_count": null,
   "metadata": {
    "colab": {
     "base_uri": "https://localhost:8080/"
    },
    "executionInfo": {
     "elapsed": 273,
     "status": "ok",
     "timestamp": 1623806255678,
     "user": {
      "displayName": "Sangwook Kim",
      "photoUrl": "",
      "userId": "01536500841134132118"
     },
     "user_tz": -540
    },
    "id": "u02E5fWJVjs2",
    "outputId": "56764b84-1d90-46c3-8d99-d8672884180d"
   },
   "outputs": [
    {
     "name": "stdout",
     "output_type": "stream",
     "text": [
      "[28, 20]\n"
     ]
    },
    {
     "data": {
      "text/plain": [
       "0"
      ]
     },
     "execution_count": 3,
     "metadata": {
      "tags": []
     },
     "output_type": "execute_result"
    }
   ],
   "source": [
    "def solution(n, times):\n",
    "    answer = 0\n",
    "    times.sort()\n",
    "    duration = [0 for _ in range(len(times))]\n",
    "\n",
    "    for i in range(n):\n",
    "        temp = [(j + k) for j, k in zip(times, duration)]\n",
    "        idx = temp.index(min(temp))\n",
    "        duration[idx] += times[idx]\n",
    "\n",
    "    return max(duration)\n",
    "\n",
    "solution(6, [7, 10]) # 28\n"
   ]
  },
  {
   "cell_type": "code",
   "execution_count": null,
   "metadata": {
    "colab": {
     "base_uri": "https://localhost:8080/"
    },
    "executionInfo": {
     "elapsed": 288,
     "status": "ok",
     "timestamp": 1623821016946,
     "user": {
      "displayName": "Sangwook Kim",
      "photoUrl": "",
      "userId": "01536500841134132118"
     },
     "user_tz": -540
    },
    "id": "aD8yn7_8dqHA",
    "outputId": "6b90b5a8-6dd8-47b5-d712-263f5321e090"
   },
   "outputs": [
    {
     "name": "stdout",
     "output_type": "stream",
     "text": [
      "num :: 15, people_count :: 3\n",
      "num :: 23, people_count :: 5\n",
      "num :: 27, people_count :: 5\n",
      "num :: 29, people_count :: 6\n",
      "num :: 28, people_count :: 6\n",
      "answer :: 28\n"
     ]
    },
    {
     "data": {
      "text/plain": [
       "0"
      ]
     },
     "execution_count": 35,
     "metadata": {
      "tags": []
     },
     "output_type": "execute_result"
    }
   ],
   "source": [
    "def solution(n, times):\n",
    "    answer = 0\n",
    "\n",
    "    start = 1\n",
    "    end = (len(times) + 1) * max(times)\n",
    "\n",
    "    # sum([num // i for i in times]) # 가능한 사람 수\n",
    "    while start <= end:\n",
    "        mid = (start + end) // 2\n",
    "\n",
    "        people_count = sum([mid // i for i in times])\n",
    "\n",
    "        print(f'num :: {mid}, people_count :: {people_count}')\n",
    "        if people_count >= n:\n",
    "            answer = mid\n",
    "            end = mid - 1\n",
    "        if people_count < n:\n",
    "            start = mid + 1\n",
    "\n",
    "    print(f'answer :: {answer}')\n",
    "    return 0\n",
    "\n",
    "solution(6, [7, 10]) # 28\n"
   ]
  },
  {
   "cell_type": "code",
   "execution_count": null,
   "metadata": {
    "colab": {
     "base_uri": "https://localhost:8080/"
    },
    "executionInfo": {
     "elapsed": 236,
     "status": "ok",
     "timestamp": 1623904781519,
     "user": {
      "displayName": "Sangwook Kim",
      "photoUrl": "",
      "userId": "01536500841134132118"
     },
     "user_tz": -540
    },
    "id": "2xNR4xPqQ7wd",
    "outputId": "a974ffd7-d3fe-43a8-c2f3-a4d9883fe033"
   },
   "outputs": [
    {
     "name": "stdout",
     "output_type": "stream",
     "text": [
      "{1, 2, 3, 4}\n",
      "{1, 2, 3, 4, 5}\n",
      "{1, 2, 3, 4}\n"
     ]
    }
   ],
   "source": [
    "set1 = set([1,2,3,4])\n",
    "print(set1)\n",
    "set2 = set1.copy()\n",
    "set1.add(5)\n",
    "print(set1)\n",
    "print(set2)"
   ]
  },
  {
   "cell_type": "code",
   "execution_count": null,
   "metadata": {
    "colab": {
     "base_uri": "https://localhost:8080/"
    },
    "executionInfo": {
     "elapsed": 385,
     "status": "ok",
     "timestamp": 1623915316375,
     "user": {
      "displayName": "Sangwook Kim",
      "photoUrl": "",
      "userId": "01536500841134132118"
     },
     "user_tz": -540
    },
    "id": "o9FFHol64Imr",
    "outputId": "5b69d30e-47f3-419d-d750-91304f06b01f"
   },
   "outputs": [
    {
     "name": "stdout",
     "output_type": "stream",
     "text": [
      "larger : 1254, smaller : 582\n",
      "larger : 582, smaller : 90\n",
      "larger : 90, smaller : 42\n",
      "larger : 42, smaller : 6\n",
      "6\n"
     ]
    }
   ],
   "source": [
    "def gcd(a, b):\n",
    "    larger = max(a, b)\n",
    "    smaller = min(a, b)\n",
    "    print(f'larger : {larger}, smaller : {smaller}')\n",
    "    if larger % smaller == 0:\n",
    "        return smaller\n",
    "    return gcd(smaller, larger % smaller)\n",
    "\n",
    "print(gcd(1254, 582))"
   ]
  },
  {
   "cell_type": "code",
   "execution_count": null,
   "metadata": {
    "colab": {
     "base_uri": "https://localhost:8080/"
    },
    "executionInfo": {
     "elapsed": 391,
     "status": "ok",
     "timestamp": 1624885721069,
     "user": {
      "displayName": "Sangwook Kim",
      "photoUrl": "",
      "userId": "01536500841134132118"
     },
     "user_tz": -540
    },
    "id": "OjOn-9VPpygA",
    "outputId": "5e49273e-b1e9-4c58-8f5a-9906e9b23750"
   },
   "outputs": [
    {
     "name": "stdout",
     "output_type": "stream",
     "text": [
      "20\n",
      "[(4, 5), (5, 6), (3, 5), (1, 3), (2, 4)]\n",
      "[0, 1, 1, 1, 1, 4, 1]\n"
     ]
    }
   ],
   "source": [
    "# 크루스컬 알고리즘\n",
    "\n",
    "def find(parent, a):\n",
    "    if parent[a] != a:\n",
    "        parent[a] = find(parent, parent[a])\n",
    "\n",
    "    return parent[a]\n",
    "        \n",
    "def union(parent, a, b):\n",
    "    a = find(parent, a)\n",
    "    b = find(parent, b)\n",
    "\n",
    "    if a > b:\n",
    "        parent[a] = b\n",
    "    else:\n",
    "        parent[b] = a\n",
    "\n",
    "N = 6\n",
    "edges = [(1,2,13), (1,3,5), (2,4,9), (3,4,15), (3,5,3), (4,5,1), (4,6,7), (5,6,2)]\n",
    "edges = [(k, i, j) for i, j, k in edges]\n",
    "edges.sort()\n",
    "parent = [i for i in range(N + 1)]\n",
    "result = 0\n",
    "choosen_edge = []\n",
    "\n",
    "for edge in edges:\n",
    "    cost, a, b = edge\n",
    "    if find(parent, a) != find(parent, b):\n",
    "        union(parent, a, b)\n",
    "        result += cost\n",
    "        choosen_edge.append((a, b))\n",
    "\n",
    "print(result)\n",
    "print(choosen_edge)\n",
    "print(parent)"
   ]
  },
  {
   "cell_type": "code",
   "execution_count": null,
   "metadata": {
    "colab": {
     "base_uri": "https://localhost:8080/"
    },
    "executionInfo": {
     "elapsed": 333,
     "status": "ok",
     "timestamp": 1624886517772,
     "user": {
      "displayName": "Sangwook Kim",
      "photoUrl": "",
      "userId": "01536500841134132118"
     },
     "user_tz": -540
    },
    "id": "R3IpD7IgwKeY",
    "outputId": "ab1d54da-136c-41bf-b808-581ff40645e5"
   },
   "outputs": [
    {
     "name": "stdout",
     "output_type": "stream",
     "text": [
      "4\n"
     ]
    }
   ],
   "source": [
    "def find(parent, a):\n",
    "    if parent[a] != a:\n",
    "        parent[a] = find(parent, parent[a])\n",
    "    return parent[a]\n",
    "\n",
    "def union(parent, a, b):\n",
    "    a = find(parent, a)\n",
    "    b = find(parent, b)\n",
    "    if a > b:\n",
    "        parent[a] = b\n",
    "    else:\n",
    "        parent[b] = a\n",
    "\n",
    "def solution(n, costs):\n",
    "    answer = 0\n",
    "    parent = [i for i in range(n + 1)]\n",
    "    costs.sort(key=lambda x: x[2])\n",
    "\n",
    "    for cost in costs:\n",
    "        a, b, dist = cost\n",
    "        if find(parent, a) != find(parent, b):\n",
    "            union(parent, a, b)\n",
    "            answer += dist\n",
    "    print(answer)\n",
    "\n",
    "\n",
    "\n",
    "solution(4, [[0,1,1],[0,2,2],[1,2,5],[1,3,1],[2,3,8]])"
   ]
  },
  {
   "cell_type": "code",
   "execution_count": null,
   "metadata": {
    "colab": {
     "base_uri": "https://localhost:8080/"
    },
    "executionInfo": {
     "elapsed": 339,
     "status": "ok",
     "timestamp": 1624953507753,
     "user": {
      "displayName": "Sangwook Kim",
      "photoUrl": "",
      "userId": "01536500841134132118"
     },
     "user_tz": -540
    },
    "id": "hLIYeH9Ly4nW",
    "outputId": "35c30f01-cf2c-459f-e716-942b6d5b3120"
   },
   "outputs": [
    {
     "name": "stdout",
     "output_type": "stream",
     "text": [
      "0 35\n",
      "2 7\n",
      "6 15\n",
      "15 17\n",
      "[1, 1, 2, 2, 2, 2, 3, 3, 2, 2, 2, 2, 2, 2, 2, 3, 2, 2, 1, 1, 1, 1, 1, 1, 1, 1, 1, 1, 1, 1, 1, 1, 1, 1, 1, 1]\n",
      "[0, 0, 0, 0, 0, 0, 0, 0, 0, 0, 0, 0, 0, 0, 0, 0, 0, 0, 0, 0, 0, 0, 0, 0, 0, 0, 0, 0, 0, 0, 0, 0, 0, 0, 0, 0]\n"
     ]
    },
    {
     "data": {
      "text/plain": [
       "2"
      ]
     },
     "execution_count": 21,
     "metadata": {
      "tags": []
     },
     "output_type": "execute_result"
    }
   ],
   "source": [
    "def solution(routes):\n",
    "    answer = 0\n",
    "    temp = []\n",
    "    routes.sort()\n",
    "\n",
    "    left_end = routes[0][0]\n",
    "    right_end = max([i[1] for i in routes])\n",
    "    line = [0] * (right_end - left_end + 1)\n",
    "    \n",
    "    for route in routes:\n",
    "        a, b = route\n",
    "        a = a - left_end\n",
    "        b = b - left_end\n",
    "        print(a, b)\n",
    "        for i in range(a, b + 1):\n",
    "            line[i] += 1\n",
    "\n",
    "    print(line)\n",
    "    while sum(line) > 0:\n",
    "        idx = line.index(max(line))\n",
    "        for route in routes:\n",
    "            if route in temp:\n",
    "                continue\n",
    "            a, b = route\n",
    "            a = a - left_end\n",
    "            b = b - left_end\n",
    "            if a <= idx <= b:\n",
    "                for i in range(a, b + 1):\n",
    "                    line[i] -= 1\n",
    "                    temp.append(route)\n",
    "        answer += 1\n",
    "\n",
    "    print(line)\n",
    "    return answer\n",
    "\n",
    "\n",
    "solution([[-20,15], [-14,-5], [-18,-13], [-5,-3]]) # 2개"
   ]
  },
  {
   "cell_type": "code",
   "execution_count": null,
   "metadata": {
    "colab": {
     "base_uri": "https://localhost:8080/"
    },
    "executionInfo": {
     "elapsed": 341,
     "status": "ok",
     "timestamp": 1624956768777,
     "user": {
      "displayName": "Sangwook Kim",
      "photoUrl": "",
      "userId": "01536500841134132118"
     },
     "user_tz": -540
    },
    "id": "uSCT1fjGsvt9",
    "outputId": "0631b30f-acc7-44fd-ec58-e50929ef9df8"
   },
   "outputs": [
    {
     "name": "stdout",
     "output_type": "stream",
     "text": [
      "2\n",
      "2\n",
      "1\n",
      "1\n",
      "4\n",
      "2\n",
      "2\n",
      "2\n",
      "4\n",
      "2\n",
      "8\n",
      "2\n",
      "2\n"
     ]
    }
   ],
   "source": [
    "def solution(routes):\n",
    "    answer = 0\n",
    "    temp = []\n",
    "    routes.sort(key = lambda x: x[1] - x[0])\n",
    "    #print(routes)\n",
    "    covered_list = []\n",
    "\n",
    "    for route in routes:\n",
    "        a, b = route\n",
    "        is_contain = False\n",
    "        for idx, covered in enumerate(covered_list):\n",
    "            na, nb = covered\n",
    "            if a > nb or b < na:\n",
    "                continue\n",
    "            if a >= na:\n",
    "                na = a\n",
    "            if b <= nb:\n",
    "                nb = b\n",
    "            covered_list[idx] = [na, nb]\n",
    "            is_contain = True\n",
    "            break\n",
    "        \n",
    "        if not is_contain:\n",
    "            covered_list.append([a, b])\n",
    "    #print(covered_list)\n",
    "\n",
    "\n",
    "    return len(covered_list)\n",
    "\n",
    "\n",
    "solution([[-20,15], [-14,-5], [-18,-13], [-5,-3]]) # 2개\n",
    "\n",
    "\n",
    "\n",
    "print(solution([ [-20, 15], [-14, -5], [-18, -13], [-5, -3] ]) )#2\n",
    "print(solution([ [-2, -1], [1, 2], [-3, 0] ]))#2\n",
    "print(solution([ [0, 0], ]))#1\n",
    "print(solution([ [0, 1], [0, 1], [1, 2] ]))#1\n",
    "print(solution([ [0, 1], [2, 3], [4, 5], [6, 7] ]))#4\n",
    "print(solution([ [-20, -15], [-14, -5], [-18, -13], [-5, -3] ]))#2\n",
    "print(solution([ [-20, 15], [-20, -15], [-14, -5], [-18, -13], [-5, -3] ]))#2\n",
    "print(solution([ [2,2],[0,1],[-10,9] ]))#2\n",
    "print(solution([ [-7, 0], [-6, -4], [-5, -3], [-3, -1], [-1, 4], [1, 2], [3, 4] ]))#4\n",
    "print(solution([ [-5, -3], [-4, 0], [-4, -2], [-1, 2], [0, 3], [1, 5], [2, 4] ]))#2\n",
    "print(solution([ [0, 1], [1, 2], [2, 3], [3, 4], [4, 5], [5, 6], [6, 7], [7, 8], [8, 9], [9, 10], [10, 11], [11, 12], [12, 13], [13, 14], [14, 15] ]))#8\n",
    "print(solution([ [0, 12], [1, 12], [2, 12], [3, 12], [5, 6], [6, 12], [10, 12] ]))#2\n",
    "print(solution([ [-191, -107], [ -184,-151 ], [ -150,-102 ], [ -171,-124 ], [ -120,-114 ] ]) )# 2                                                            "
   ]
  },
  {
   "cell_type": "code",
   "execution_count": 7,
   "metadata": {
    "colab": {
     "base_uri": "https://localhost:8080/"
    },
    "executionInfo": {
     "elapsed": 415,
     "status": "ok",
     "timestamp": 1625028129236,
     "user": {
      "displayName": "Sangwook Kim",
      "photoUrl": "",
      "userId": "01536500841134132118"
     },
     "user_tz": -540
    },
    "id": "8NqPudBmMkeA",
    "outputId": "5c480267-5200-49b3-b5ee-3c2143ab3c6f"
   },
   "outputs": [
    {
     "name": "stdout",
     "output_type": "stream",
     "text": [
      "-18 -13 [-20, 15]\n",
      "-14 -5 [-18, -13]\n",
      "-5 -3 [-18, -13]\n",
      "1\n"
     ]
    }
   ],
   "source": [
    "def solution(routes):\n",
    "    answer = 1\n",
    "    routes.sort()\n",
    "    temp = routes.pop(0)\n",
    "    \n",
    "    for route in routes:\n",
    "        a, b = route\n",
    "        print(a, b, temp)\n",
    "\n",
    "        if b < temp[1] or temp[1] < a:\n",
    "            if temp[1] < a:\n",
    "                answer += 1\n",
    "            temp = route\n",
    "\n",
    "    print(answer)\n",
    "\n",
    "\n",
    "solution([[-20,15], [-14,-5], [-18,-13], [-5,-3]]) # 2개"
   ]
  },
  {
   "cell_type": "code",
   "execution_count": 21,
   "metadata": {
    "colab": {
     "base_uri": "https://localhost:8080/"
    },
    "executionInfo": {
     "elapsed": 457,
     "status": "ok",
     "timestamp": 1625030587868,
     "user": {
      "displayName": "Sangwook Kim",
      "photoUrl": "",
      "userId": "01536500841134132118"
     },
     "user_tz": -540
    },
    "id": "racdJBP9RuyP",
    "outputId": "20ad7bd8-a83f-45ff-f35e-e66b434e89e7"
   },
   "outputs": [
    {
     "name": "stdout",
     "output_type": "stream",
     "text": [
      "[[0, 0, 0, 0, 0], [0, 0, 0, 0, 0], [0, 0, -1, 0, 0], [0, 0, 0, 0, 0]]\n",
      "1 1\n",
      "[[0, 0, 0, 0, 0], [0, 0, 1, 0, 0], [0, 1, -1, 0, 0], [0, 0, 0, 0, 0]]\n",
      "[[1, 2], [2, 1]]\n",
      "1 2\n",
      "[[0, 0, 0, 0, 0], [0, 0, 1, 0, 0], [0, 1, -1, 0, 0], [0, 1, 0, 0, 0]]\n",
      "[[2, 1], [1, 3]]\n",
      "2 1\n",
      "[[0, 0, 0, 0, 0], [0, 0, 1, 1, 0], [0, 1, -1, 0, 0], [0, 1, 0, 0, 0]]\n",
      "[[1, 3], [3, 1]]\n",
      "1 3\n",
      "[[0, 0, 0, 0, 0], [0, 0, 1, 1, 0], [0, 1, -1, 0, 0], [0, 1, 1, 0, 0]]\n",
      "[[3, 1], [2, 3]]\n",
      "3 1\n",
      "[[0, 0, 0, 0, 0], [0, 0, 1, 1, 1], [0, 1, -1, 1, 0], [0, 1, 1, 0, 0]]\n",
      "[[2, 3], [3, 2], [4, 1]]\n",
      "2 3\n",
      "[[0, 0, 0, 0, 0], [0, 0, 1, 1, 1], [0, 1, -1, 1, 0], [0, 1, 1, 1, 0]]\n",
      "[[3, 2], [4, 1], [3, 3]]\n",
      "3 2\n",
      "[[0, 0, 0, 0, 0], [0, 0, 1, 1, 1], [0, 1, -1, 1, 1], [0, 1, 1, 2, 0]]\n",
      "[[4, 1], [3, 3], [3, 3], [4, 2]]\n",
      "4 1\n",
      "[[0, 0, 0, 0, 0], [0, 0, 1, 1, 1], [0, 1, -1, 1, 2], [0, 1, 1, 2, 0]]\n",
      "[[3, 3], [3, 3], [4, 2], [4, 2]]\n",
      "3 3\n",
      "[[0, 0, 0, 0, 0], [0, 0, 1, 1, 1], [0, 1, -1, 1, 2], [0, 1, 1, 2, 1]]\n",
      "[[3, 3], [4, 2], [4, 2], [4, 3]]\n",
      "3 3\n",
      "[[0, 0, 0, 0, 0], [0, 0, 1, 1, 1], [0, 1, -1, 1, 2], [0, 1, 1, 2, 2]]\n",
      "[[4, 2], [4, 2], [4, 3], [4, 3]]\n",
      "4 2\n",
      "[[0, 0, 0, 0, 0], [0, 0, 1, 1, 1], [0, 1, -1, 1, 2], [0, 1, 1, 2, 3]]\n",
      "[[4, 2], [4, 3], [4, 3], [4, 3]]\n",
      "4 2\n",
      "[[0, 0, 0, 0, 0], [0, 0, 1, 1, 1], [0, 1, -1, 1, 2], [0, 1, 1, 2, 4]]\n",
      "[[4, 3], [4, 3], [4, 3], [4, 3]]\n",
      "4 3\n",
      "[[0, 0, 0, 0, 0], [0, 0, 1, 1, 1], [0, 1, -1, 1, 2], [0, 1, 1, 2, 4]]\n",
      "[[4, 3], [4, 3], [4, 3]]\n",
      "4 3\n",
      "[[0, 0, 0, 0, 0], [0, 0, 1, 1, 1], [0, 1, -1, 1, 2], [0, 1, 1, 2, 4]]\n",
      "[[4, 3], [4, 3]]\n",
      "4 3\n",
      "[[0, 0, 0, 0, 0], [0, 0, 1, 1, 1], [0, 1, -1, 1, 2], [0, 1, 1, 2, 4]]\n",
      "[[4, 3]]\n",
      "4 3\n",
      "[[0, 0, 0, 0, 0], [0, 0, 1, 1, 1], [0, 1, -1, 1, 2], [0, 1, 1, 2, 4]]\n",
      "[]\n",
      "[[0, 0, 0, 0, 0], [0, 0, 1, 1, 1], [0, 1, -1, 1, 2], [0, 1, 1, 2, 4]]\n"
     ]
    },
    {
     "data": {
      "text/plain": [
       "0"
      ]
     },
     "execution_count": 21,
     "metadata": {
      "tags": []
     },
     "output_type": "execute_result"
    }
   ],
   "source": [
    "def solution(m, n, puddles):\n",
    "    road = [[0 for _ in range(m + 1)] for _ in range(n + 1)]\n",
    "\n",
    "    for puddle in puddles:\n",
    "        road[puddle[1]][puddle[0]] = -1\n",
    "\n",
    "    dx, dy = [0, 1], [1, 0]\n",
    "    queue = []\n",
    "    queue.append([1, 1])\n",
    "    while queue:\n",
    "        x, y = queue.pop(0)\n",
    "\n",
    "        for i in range(2):\n",
    "            nx = x + dx[i]\n",
    "            ny = y + dy[i]\n",
    "            if nx <= m and ny <= n:\n",
    "                if road[ny][nx] != -1:\n",
    "                    queue.append([nx, ny])\n",
    "                    road[ny][nx] += 1\n",
    "\n",
    "    return road[n][m]\n",
    "\n",
    "\n",
    "\n",
    "solution(4, 3, [[2, 2]]) # 4"
   ]
  }
 ],
 "metadata": {
  "colab": {
   "authorship_tag": "ABX9TyNBuQ5ATmXBXXH813sEtZBG",
   "collapsed_sections": [],
   "name": "연습장.ipynb",
   "provenance": []
  },
  "kernelspec": {
   "display_name": "Python 3",
   "name": "python3"
  },
  "language_info": {
   "name": "python"
  }
 },
 "nbformat": 4,
 "nbformat_minor": 0
}
